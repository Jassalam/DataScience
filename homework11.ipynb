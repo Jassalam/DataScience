{
 "cells": [
  {
   "cell_type": "code",
   "execution_count": 1,
   "id": "e2eca8f4",
   "metadata": {},
   "outputs": [],
   "source": [
    "import pandas as pd\n",
    "X =pd.read_csv(\"boston_housing_large_X.csv\")\n",
    "y =pd.read_csv(\"boston_housing_large_y.csv\", header=None)\n",
    "\n"
   ]
  },
  {
   "cell_type": "code",
   "execution_count": 2,
   "id": "b680fab3",
   "metadata": {},
   "outputs": [
    {
     "name": "stdout",
     "output_type": "stream",
     "text": [
      "<class 'pandas.core.frame.DataFrame'>\n",
      "RangeIndex: 506 entries, 0 to 505\n",
      "Columns: 104 entries, CRIM to LSTAT_LSTAT\n",
      "dtypes: float64(104)\n",
      "memory usage: 411.2 KB\n"
     ]
    }
   ],
   "source": [
    "X.info()"
   ]
  },
  {
   "cell_type": "code",
   "execution_count": 3,
   "id": "45c6bc94",
   "metadata": {},
   "outputs": [
    {
     "name": "stdout",
     "output_type": "stream",
     "text": [
      "(506, 104)\n"
     ]
    }
   ],
   "source": [
    "print(X.shape)"
   ]
  },
  {
   "cell_type": "code",
   "execution_count": 4,
   "id": "56aa9fb6",
   "metadata": {},
   "outputs": [
    {
     "data": {
      "text/html": [
       "<div>\n",
       "<style scoped>\n",
       "    .dataframe tbody tr th:only-of-type {\n",
       "        vertical-align: middle;\n",
       "    }\n",
       "\n",
       "    .dataframe tbody tr th {\n",
       "        vertical-align: top;\n",
       "    }\n",
       "\n",
       "    .dataframe thead th {\n",
       "        text-align: right;\n",
       "    }\n",
       "</style>\n",
       "<table border=\"1\" class=\"dataframe\">\n",
       "  <thead>\n",
       "    <tr style=\"text-align: right;\">\n",
       "      <th></th>\n",
       "      <th>CRIM</th>\n",
       "      <th>ZN</th>\n",
       "      <th>INDUS</th>\n",
       "      <th>CHAS</th>\n",
       "      <th>NOX</th>\n",
       "      <th>RM</th>\n",
       "      <th>AGE</th>\n",
       "      <th>DIS</th>\n",
       "      <th>RAD</th>\n",
       "      <th>TAX</th>\n",
       "      <th>...</th>\n",
       "      <th>TAX_TAX</th>\n",
       "      <th>TAX_PTRATIO</th>\n",
       "      <th>TAX_B</th>\n",
       "      <th>TAX_LSTAT</th>\n",
       "      <th>PTRATIO_PTRATIO</th>\n",
       "      <th>PTRATIO_B</th>\n",
       "      <th>PTRATIO_LSTAT</th>\n",
       "      <th>B_B</th>\n",
       "      <th>B_LSTAT</th>\n",
       "      <th>LSTAT_LSTAT</th>\n",
       "    </tr>\n",
       "  </thead>\n",
       "  <tbody>\n",
       "    <tr>\n",
       "      <th>count</th>\n",
       "      <td>506.000000</td>\n",
       "      <td>506.000000</td>\n",
       "      <td>506.000000</td>\n",
       "      <td>506.000000</td>\n",
       "      <td>506.000000</td>\n",
       "      <td>506.000000</td>\n",
       "      <td>506.000000</td>\n",
       "      <td>506.000000</td>\n",
       "      <td>506.000000</td>\n",
       "      <td>506.000000</td>\n",
       "      <td>...</td>\n",
       "      <td>506.000000</td>\n",
       "      <td>506.000000</td>\n",
       "      <td>506.00000</td>\n",
       "      <td>506.000000</td>\n",
       "      <td>506.000000</td>\n",
       "      <td>506.000000</td>\n",
       "      <td>506.000000</td>\n",
       "      <td>506.000000</td>\n",
       "      <td>506.000000</td>\n",
       "      <td>506.000000</td>\n",
       "    </tr>\n",
       "    <tr>\n",
       "      <th>mean</th>\n",
       "      <td>3.593761</td>\n",
       "      <td>11.363636</td>\n",
       "      <td>11.136779</td>\n",
       "      <td>0.069170</td>\n",
       "      <td>0.554695</td>\n",
       "      <td>6.284634</td>\n",
       "      <td>68.574901</td>\n",
       "      <td>3.795043</td>\n",
       "      <td>9.549407</td>\n",
       "      <td>408.237154</td>\n",
       "      <td>...</td>\n",
       "      <td>195006.197628</td>\n",
       "      <td>7702.055336</td>\n",
       "      <td>138823.11502</td>\n",
       "      <td>5818.871146</td>\n",
       "      <td>345.284447</td>\n",
       "      <td>6547.619334</td>\n",
       "      <td>239.290334</td>\n",
       "      <td>135534.645253</td>\n",
       "      <td>4274.823238</td>\n",
       "      <td>210.993989</td>\n",
       "    </tr>\n",
       "    <tr>\n",
       "      <th>std</th>\n",
       "      <td>8.596783</td>\n",
       "      <td>23.322453</td>\n",
       "      <td>6.860353</td>\n",
       "      <td>0.253994</td>\n",
       "      <td>0.115878</td>\n",
       "      <td>0.702617</td>\n",
       "      <td>28.148861</td>\n",
       "      <td>2.105710</td>\n",
       "      <td>8.707259</td>\n",
       "      <td>168.537116</td>\n",
       "      <td>...</td>\n",
       "      <td>157613.919181</td>\n",
       "      <td>3732.003358</td>\n",
       "      <td>64619.91997</td>\n",
       "      <td>5083.126041</td>\n",
       "      <td>76.318094</td>\n",
       "      <td>1837.557901</td>\n",
       "      <td>145.807763</td>\n",
       "      <td>41830.850997</td>\n",
       "      <td>2613.501822</td>\n",
       "      <td>236.061920</td>\n",
       "    </tr>\n",
       "    <tr>\n",
       "      <th>min</th>\n",
       "      <td>0.006320</td>\n",
       "      <td>0.000000</td>\n",
       "      <td>0.460000</td>\n",
       "      <td>0.000000</td>\n",
       "      <td>0.385000</td>\n",
       "      <td>3.561000</td>\n",
       "      <td>2.900000</td>\n",
       "      <td>1.129600</td>\n",
       "      <td>1.000000</td>\n",
       "      <td>187.000000</td>\n",
       "      <td>...</td>\n",
       "      <td>34969.000000</td>\n",
       "      <td>2692.800000</td>\n",
       "      <td>213.12000</td>\n",
       "      <td>498.960000</td>\n",
       "      <td>158.760000</td>\n",
       "      <td>6.464000</td>\n",
       "      <td>25.431000</td>\n",
       "      <td>0.102400</td>\n",
       "      <td>5.580800</td>\n",
       "      <td>2.992900</td>\n",
       "    </tr>\n",
       "    <tr>\n",
       "      <th>25%</th>\n",
       "      <td>0.082045</td>\n",
       "      <td>0.000000</td>\n",
       "      <td>5.190000</td>\n",
       "      <td>0.000000</td>\n",
       "      <td>0.449000</td>\n",
       "      <td>5.885500</td>\n",
       "      <td>45.025000</td>\n",
       "      <td>2.100175</td>\n",
       "      <td>4.000000</td>\n",
       "      <td>279.000000</td>\n",
       "      <td>...</td>\n",
       "      <td>77841.000000</td>\n",
       "      <td>4913.600000</td>\n",
       "      <td>101240.04000</td>\n",
       "      <td>2051.340000</td>\n",
       "      <td>302.760000</td>\n",
       "      <td>6140.250000</td>\n",
       "      <td>122.942000</td>\n",
       "      <td>140908.274275</td>\n",
       "      <td>2355.214275</td>\n",
       "      <td>48.303700</td>\n",
       "    </tr>\n",
       "    <tr>\n",
       "      <th>50%</th>\n",
       "      <td>0.256510</td>\n",
       "      <td>0.000000</td>\n",
       "      <td>9.690000</td>\n",
       "      <td>0.000000</td>\n",
       "      <td>0.538000</td>\n",
       "      <td>6.208500</td>\n",
       "      <td>77.500000</td>\n",
       "      <td>3.207450</td>\n",
       "      <td>5.000000</td>\n",
       "      <td>330.000000</td>\n",
       "      <td>...</td>\n",
       "      <td>108900.000000</td>\n",
       "      <td>5924.100000</td>\n",
       "      <td>119658.91500</td>\n",
       "      <td>3724.380000</td>\n",
       "      <td>362.905000</td>\n",
       "      <td>7078.025500</td>\n",
       "      <td>205.030000</td>\n",
       "      <td>153225.273700</td>\n",
       "      <td>3804.722600</td>\n",
       "      <td>129.050000</td>\n",
       "    </tr>\n",
       "    <tr>\n",
       "      <th>75%</th>\n",
       "      <td>3.647423</td>\n",
       "      <td>12.500000</td>\n",
       "      <td>18.100000</td>\n",
       "      <td>0.000000</td>\n",
       "      <td>0.624000</td>\n",
       "      <td>6.623500</td>\n",
       "      <td>94.075000</td>\n",
       "      <td>5.188425</td>\n",
       "      <td>24.000000</td>\n",
       "      <td>666.000000</td>\n",
       "      <td>...</td>\n",
       "      <td>443556.000000</td>\n",
       "      <td>13453.200000</td>\n",
       "      <td>160982.30250</td>\n",
       "      <td>8489.782500</td>\n",
       "      <td>408.040000</td>\n",
       "      <td>7695.286500</td>\n",
       "      <td>334.360500</td>\n",
       "      <td>156994.250700</td>\n",
       "      <td>5640.628650</td>\n",
       "      <td>287.472100</td>\n",
       "    </tr>\n",
       "    <tr>\n",
       "      <th>max</th>\n",
       "      <td>88.976200</td>\n",
       "      <td>100.000000</td>\n",
       "      <td>27.740000</td>\n",
       "      <td>1.000000</td>\n",
       "      <td>0.871000</td>\n",
       "      <td>8.780000</td>\n",
       "      <td>100.000000</td>\n",
       "      <td>12.126500</td>\n",
       "      <td>24.000000</td>\n",
       "      <td>711.000000</td>\n",
       "      <td>...</td>\n",
       "      <td>505521.000000</td>\n",
       "      <td>14291.100000</td>\n",
       "      <td>282195.90000</td>\n",
       "      <td>25288.020000</td>\n",
       "      <td>484.000000</td>\n",
       "      <td>8421.600000</td>\n",
       "      <td>766.994000</td>\n",
       "      <td>157529.610000</td>\n",
       "      <td>15070.293000</td>\n",
       "      <td>1441.720900</td>\n",
       "    </tr>\n",
       "  </tbody>\n",
       "</table>\n",
       "<p>8 rows × 104 columns</p>\n",
       "</div>"
      ],
      "text/plain": [
       "             CRIM          ZN       INDUS        CHAS         NOX          RM  \\\n",
       "count  506.000000  506.000000  506.000000  506.000000  506.000000  506.000000   \n",
       "mean     3.593761   11.363636   11.136779    0.069170    0.554695    6.284634   \n",
       "std      8.596783   23.322453    6.860353    0.253994    0.115878    0.702617   \n",
       "min      0.006320    0.000000    0.460000    0.000000    0.385000    3.561000   \n",
       "25%      0.082045    0.000000    5.190000    0.000000    0.449000    5.885500   \n",
       "50%      0.256510    0.000000    9.690000    0.000000    0.538000    6.208500   \n",
       "75%      3.647423   12.500000   18.100000    0.000000    0.624000    6.623500   \n",
       "max     88.976200  100.000000   27.740000    1.000000    0.871000    8.780000   \n",
       "\n",
       "              AGE         DIS         RAD         TAX  ...        TAX_TAX  \\\n",
       "count  506.000000  506.000000  506.000000  506.000000  ...     506.000000   \n",
       "mean    68.574901    3.795043    9.549407  408.237154  ...  195006.197628   \n",
       "std     28.148861    2.105710    8.707259  168.537116  ...  157613.919181   \n",
       "min      2.900000    1.129600    1.000000  187.000000  ...   34969.000000   \n",
       "25%     45.025000    2.100175    4.000000  279.000000  ...   77841.000000   \n",
       "50%     77.500000    3.207450    5.000000  330.000000  ...  108900.000000   \n",
       "75%     94.075000    5.188425   24.000000  666.000000  ...  443556.000000   \n",
       "max    100.000000   12.126500   24.000000  711.000000  ...  505521.000000   \n",
       "\n",
       "        TAX_PTRATIO         TAX_B     TAX_LSTAT  PTRATIO_PTRATIO    PTRATIO_B  \\\n",
       "count    506.000000     506.00000    506.000000       506.000000   506.000000   \n",
       "mean    7702.055336  138823.11502   5818.871146       345.284447  6547.619334   \n",
       "std     3732.003358   64619.91997   5083.126041        76.318094  1837.557901   \n",
       "min     2692.800000     213.12000    498.960000       158.760000     6.464000   \n",
       "25%     4913.600000  101240.04000   2051.340000       302.760000  6140.250000   \n",
       "50%     5924.100000  119658.91500   3724.380000       362.905000  7078.025500   \n",
       "75%    13453.200000  160982.30250   8489.782500       408.040000  7695.286500   \n",
       "max    14291.100000  282195.90000  25288.020000       484.000000  8421.600000   \n",
       "\n",
       "       PTRATIO_LSTAT            B_B       B_LSTAT  LSTAT_LSTAT  \n",
       "count     506.000000     506.000000    506.000000   506.000000  \n",
       "mean      239.290334  135534.645253   4274.823238   210.993989  \n",
       "std       145.807763   41830.850997   2613.501822   236.061920  \n",
       "min        25.431000       0.102400      5.580800     2.992900  \n",
       "25%       122.942000  140908.274275   2355.214275    48.303700  \n",
       "50%       205.030000  153225.273700   3804.722600   129.050000  \n",
       "75%       334.360500  156994.250700   5640.628650   287.472100  \n",
       "max       766.994000  157529.610000  15070.293000  1441.720900  \n",
       "\n",
       "[8 rows x 104 columns]"
      ]
     },
     "execution_count": 4,
     "metadata": {},
     "output_type": "execute_result"
    }
   ],
   "source": [
    "X.describe()"
   ]
  },
  {
   "cell_type": "code",
   "execution_count": 5,
   "id": "2601b6a0",
   "metadata": {},
   "outputs": [
    {
     "data": {
      "text/plain": [
       "CRIM             0\n",
       "ZN               0\n",
       "INDUS            0\n",
       "CHAS             0\n",
       "NOX              0\n",
       "                ..\n",
       "PTRATIO_B        0\n",
       "PTRATIO_LSTAT    0\n",
       "B_B              0\n",
       "B_LSTAT          0\n",
       "LSTAT_LSTAT      0\n",
       "Length: 104, dtype: int64"
      ]
     },
     "execution_count": 5,
     "metadata": {},
     "output_type": "execute_result"
    }
   ],
   "source": [
    "X.isnull().sum()"
   ]
  },
  {
   "cell_type": "code",
   "execution_count": 6,
   "id": "c5eff681",
   "metadata": {},
   "outputs": [
    {
     "data": {
      "text/plain": [
       "CRIM             504\n",
       "ZN                26\n",
       "INDUS             76\n",
       "CHAS               2\n",
       "NOX               81\n",
       "                ... \n",
       "PTRATIO_B        416\n",
       "PTRATIO_LSTAT    502\n",
       "B_B              357\n",
       "B_LSTAT          503\n",
       "LSTAT_LSTAT      455\n",
       "Length: 104, dtype: int64"
      ]
     },
     "execution_count": 6,
     "metadata": {},
     "output_type": "execute_result"
    }
   ],
   "source": [
    "X.nunique()"
   ]
  },
  {
   "cell_type": "code",
   "execution_count": 7,
   "id": "1fefb134",
   "metadata": {},
   "outputs": [
    {
     "data": {
      "text/html": [
       "<div>\n",
       "<style scoped>\n",
       "    .dataframe tbody tr th:only-of-type {\n",
       "        vertical-align: middle;\n",
       "    }\n",
       "\n",
       "    .dataframe tbody tr th {\n",
       "        vertical-align: top;\n",
       "    }\n",
       "\n",
       "    .dataframe thead th {\n",
       "        text-align: right;\n",
       "    }\n",
       "</style>\n",
       "<table border=\"1\" class=\"dataframe\">\n",
       "  <thead>\n",
       "    <tr style=\"text-align: right;\">\n",
       "      <th></th>\n",
       "      <th>CRIM</th>\n",
       "      <th>ZN</th>\n",
       "      <th>INDUS</th>\n",
       "      <th>CHAS</th>\n",
       "      <th>NOX</th>\n",
       "      <th>RM</th>\n",
       "      <th>AGE</th>\n",
       "      <th>DIS</th>\n",
       "      <th>RAD</th>\n",
       "      <th>TAX</th>\n",
       "      <th>...</th>\n",
       "      <th>TAX_TAX</th>\n",
       "      <th>TAX_PTRATIO</th>\n",
       "      <th>TAX_B</th>\n",
       "      <th>TAX_LSTAT</th>\n",
       "      <th>PTRATIO_PTRATIO</th>\n",
       "      <th>PTRATIO_B</th>\n",
       "      <th>PTRATIO_LSTAT</th>\n",
       "      <th>B_B</th>\n",
       "      <th>B_LSTAT</th>\n",
       "      <th>LSTAT_LSTAT</th>\n",
       "    </tr>\n",
       "  </thead>\n",
       "  <tbody>\n",
       "    <tr>\n",
       "      <th>CRIM</th>\n",
       "      <td>1.000000</td>\n",
       "      <td>-0.199458</td>\n",
       "      <td>0.404471</td>\n",
       "      <td>-0.055295</td>\n",
       "      <td>0.417521</td>\n",
       "      <td>-0.219940</td>\n",
       "      <td>0.350784</td>\n",
       "      <td>-0.377904</td>\n",
       "      <td>0.622029</td>\n",
       "      <td>0.579564</td>\n",
       "      <td>...</td>\n",
       "      <td>0.594726</td>\n",
       "      <td>0.579193</td>\n",
       "      <td>0.228746</td>\n",
       "      <td>0.610104</td>\n",
       "      <td>0.295753</td>\n",
       "      <td>-0.248169</td>\n",
       "      <td>0.484069</td>\n",
       "      <td>-0.365865</td>\n",
       "      <td>0.196775</td>\n",
       "      <td>0.457213</td>\n",
       "    </tr>\n",
       "    <tr>\n",
       "      <th>ZN</th>\n",
       "      <td>-0.199458</td>\n",
       "      <td>1.000000</td>\n",
       "      <td>-0.533828</td>\n",
       "      <td>-0.042697</td>\n",
       "      <td>-0.516604</td>\n",
       "      <td>0.311991</td>\n",
       "      <td>-0.569537</td>\n",
       "      <td>0.664408</td>\n",
       "      <td>-0.311948</td>\n",
       "      <td>-0.314563</td>\n",
       "      <td>...</td>\n",
       "      <td>-0.314988</td>\n",
       "      <td>-0.351212</td>\n",
       "      <td>-0.167503</td>\n",
       "      <td>-0.365627</td>\n",
       "      <td>-0.391015</td>\n",
       "      <td>-0.009200</td>\n",
       "      <td>-0.427244</td>\n",
       "      <td>0.190009</td>\n",
       "      <td>-0.318540</td>\n",
       "      <td>-0.323323</td>\n",
       "    </tr>\n",
       "    <tr>\n",
       "      <th>INDUS</th>\n",
       "      <td>0.404471</td>\n",
       "      <td>-0.533828</td>\n",
       "      <td>1.000000</td>\n",
       "      <td>0.062938</td>\n",
       "      <td>0.763651</td>\n",
       "      <td>-0.391676</td>\n",
       "      <td>0.644779</td>\n",
       "      <td>-0.708027</td>\n",
       "      <td>0.595129</td>\n",
       "      <td>0.720760</td>\n",
       "      <td>...</td>\n",
       "      <td>0.716358</td>\n",
       "      <td>0.712468</td>\n",
       "      <td>0.418263</td>\n",
       "      <td>0.684523</td>\n",
       "      <td>0.397995</td>\n",
       "      <td>-0.166550</td>\n",
       "      <td>0.618652</td>\n",
       "      <td>-0.387473</td>\n",
       "      <td>0.394627</td>\n",
       "      <td>0.532496</td>\n",
       "    </tr>\n",
       "    <tr>\n",
       "      <th>CHAS</th>\n",
       "      <td>-0.055295</td>\n",
       "      <td>-0.042697</td>\n",
       "      <td>0.062938</td>\n",
       "      <td>1.000000</td>\n",
       "      <td>0.091203</td>\n",
       "      <td>0.091251</td>\n",
       "      <td>0.086518</td>\n",
       "      <td>-0.099176</td>\n",
       "      <td>-0.007368</td>\n",
       "      <td>-0.035587</td>\n",
       "      <td>...</td>\n",
       "      <td>-0.033518</td>\n",
       "      <td>-0.056008</td>\n",
       "      <td>0.016650</td>\n",
       "      <td>-0.083519</td>\n",
       "      <td>-0.125584</td>\n",
       "      <td>0.000548</td>\n",
       "      <td>-0.077364</td>\n",
       "      <td>0.041492</td>\n",
       "      <td>-0.010022</td>\n",
       "      <td>-0.047605</td>\n",
       "    </tr>\n",
       "    <tr>\n",
       "      <th>NOX</th>\n",
       "      <td>0.417521</td>\n",
       "      <td>-0.516604</td>\n",
       "      <td>0.763651</td>\n",
       "      <td>0.091203</td>\n",
       "      <td>1.000000</td>\n",
       "      <td>-0.302188</td>\n",
       "      <td>0.731470</td>\n",
       "      <td>-0.769230</td>\n",
       "      <td>0.611441</td>\n",
       "      <td>0.668023</td>\n",
       "      <td>...</td>\n",
       "      <td>0.659892</td>\n",
       "      <td>0.627879</td>\n",
       "      <td>0.354314</td>\n",
       "      <td>0.669637</td>\n",
       "      <td>0.213950</td>\n",
       "      <td>-0.269935</td>\n",
       "      <td>0.564350</td>\n",
       "      <td>-0.411575</td>\n",
       "      <td>0.360822</td>\n",
       "      <td>0.530723</td>\n",
       "    </tr>\n",
       "    <tr>\n",
       "      <th>...</th>\n",
       "      <td>...</td>\n",
       "      <td>...</td>\n",
       "      <td>...</td>\n",
       "      <td>...</td>\n",
       "      <td>...</td>\n",
       "      <td>...</td>\n",
       "      <td>...</td>\n",
       "      <td>...</td>\n",
       "      <td>...</td>\n",
       "      <td>...</td>\n",
       "      <td>...</td>\n",
       "      <td>...</td>\n",
       "      <td>...</td>\n",
       "      <td>...</td>\n",
       "      <td>...</td>\n",
       "      <td>...</td>\n",
       "      <td>...</td>\n",
       "      <td>...</td>\n",
       "      <td>...</td>\n",
       "      <td>...</td>\n",
       "      <td>...</td>\n",
       "    </tr>\n",
       "    <tr>\n",
       "      <th>PTRATIO_B</th>\n",
       "      <td>-0.248169</td>\n",
       "      <td>-0.009200</td>\n",
       "      <td>-0.166550</td>\n",
       "      <td>0.000548</td>\n",
       "      <td>-0.269935</td>\n",
       "      <td>-0.040820</td>\n",
       "      <td>-0.144490</td>\n",
       "      <td>0.174482</td>\n",
       "      <td>-0.238840</td>\n",
       "      <td>-0.231542</td>\n",
       "      <td>...</td>\n",
       "      <td>-0.229326</td>\n",
       "      <td>-0.156265</td>\n",
       "      <td>0.566177</td>\n",
       "      <td>-0.260748</td>\n",
       "      <td>0.248060</td>\n",
       "      <td>1.000000</td>\n",
       "      <td>-0.144300</td>\n",
       "      <td>0.886724</td>\n",
       "      <td>0.431927</td>\n",
       "      <td>-0.202717</td>\n",
       "    </tr>\n",
       "    <tr>\n",
       "      <th>PTRATIO_LSTAT</th>\n",
       "      <td>0.484069</td>\n",
       "      <td>-0.427244</td>\n",
       "      <td>0.618652</td>\n",
       "      <td>-0.077364</td>\n",
       "      <td>0.564350</td>\n",
       "      <td>-0.601221</td>\n",
       "      <td>0.598034</td>\n",
       "      <td>-0.502168</td>\n",
       "      <td>0.546371</td>\n",
       "      <td>0.595724</td>\n",
       "      <td>...</td>\n",
       "      <td>0.600361</td>\n",
       "      <td>0.633921</td>\n",
       "      <td>0.260543</td>\n",
       "      <td>0.910090</td>\n",
       "      <td>0.527001</td>\n",
       "      <td>-0.144300</td>\n",
       "      <td>1.000000</td>\n",
       "      <td>-0.389670</td>\n",
       "      <td>0.712103</td>\n",
       "      <td>0.941783</td>\n",
       "    </tr>\n",
       "    <tr>\n",
       "      <th>B_B</th>\n",
       "      <td>-0.365865</td>\n",
       "      <td>0.190009</td>\n",
       "      <td>-0.387473</td>\n",
       "      <td>0.041492</td>\n",
       "      <td>-0.411575</td>\n",
       "      <td>0.153303</td>\n",
       "      <td>-0.298149</td>\n",
       "      <td>0.310875</td>\n",
       "      <td>-0.445681</td>\n",
       "      <td>-0.454398</td>\n",
       "      <td>...</td>\n",
       "      <td>-0.454516</td>\n",
       "      <td>-0.435404</td>\n",
       "      <td>0.403643</td>\n",
       "      <td>-0.475349</td>\n",
       "      <td>-0.174738</td>\n",
       "      <td>0.886724</td>\n",
       "      <td>-0.389670</td>\n",
       "      <td>1.000000</td>\n",
       "      <td>0.285928</td>\n",
       "      <td>-0.355752</td>\n",
       "    </tr>\n",
       "    <tr>\n",
       "      <th>B_LSTAT</th>\n",
       "      <td>0.196775</td>\n",
       "      <td>-0.318540</td>\n",
       "      <td>0.394627</td>\n",
       "      <td>-0.010022</td>\n",
       "      <td>0.360822</td>\n",
       "      <td>-0.551717</td>\n",
       "      <td>0.444783</td>\n",
       "      <td>-0.321935</td>\n",
       "      <td>0.195492</td>\n",
       "      <td>0.261539</td>\n",
       "      <td>...</td>\n",
       "      <td>0.256909</td>\n",
       "      <td>0.281901</td>\n",
       "      <td>0.559713</td>\n",
       "      <td>0.554384</td>\n",
       "      <td>0.262058</td>\n",
       "      <td>0.431927</td>\n",
       "      <td>0.712103</td>\n",
       "      <td>0.285928</td>\n",
       "      <td>1.000000</td>\n",
       "      <td>0.693112</td>\n",
       "    </tr>\n",
       "    <tr>\n",
       "      <th>LSTAT_LSTAT</th>\n",
       "      <td>0.457213</td>\n",
       "      <td>-0.323323</td>\n",
       "      <td>0.532496</td>\n",
       "      <td>-0.047605</td>\n",
       "      <td>0.530723</td>\n",
       "      <td>-0.545322</td>\n",
       "      <td>0.523764</td>\n",
       "      <td>-0.448110</td>\n",
       "      <td>0.451766</td>\n",
       "      <td>0.494704</td>\n",
       "      <td>...</td>\n",
       "      <td>0.498241</td>\n",
       "      <td>0.501000</td>\n",
       "      <td>0.192727</td>\n",
       "      <td>0.871089</td>\n",
       "      <td>0.312834</td>\n",
       "      <td>-0.202717</td>\n",
       "      <td>0.941783</td>\n",
       "      <td>-0.355752</td>\n",
       "      <td>0.693112</td>\n",
       "      <td>1.000000</td>\n",
       "    </tr>\n",
       "  </tbody>\n",
       "</table>\n",
       "<p>104 rows × 104 columns</p>\n",
       "</div>"
      ],
      "text/plain": [
       "                   CRIM        ZN     INDUS      CHAS       NOX        RM  \\\n",
       "CRIM           1.000000 -0.199458  0.404471 -0.055295  0.417521 -0.219940   \n",
       "ZN            -0.199458  1.000000 -0.533828 -0.042697 -0.516604  0.311991   \n",
       "INDUS          0.404471 -0.533828  1.000000  0.062938  0.763651 -0.391676   \n",
       "CHAS          -0.055295 -0.042697  0.062938  1.000000  0.091203  0.091251   \n",
       "NOX            0.417521 -0.516604  0.763651  0.091203  1.000000 -0.302188   \n",
       "...                 ...       ...       ...       ...       ...       ...   \n",
       "PTRATIO_B     -0.248169 -0.009200 -0.166550  0.000548 -0.269935 -0.040820   \n",
       "PTRATIO_LSTAT  0.484069 -0.427244  0.618652 -0.077364  0.564350 -0.601221   \n",
       "B_B           -0.365865  0.190009 -0.387473  0.041492 -0.411575  0.153303   \n",
       "B_LSTAT        0.196775 -0.318540  0.394627 -0.010022  0.360822 -0.551717   \n",
       "LSTAT_LSTAT    0.457213 -0.323323  0.532496 -0.047605  0.530723 -0.545322   \n",
       "\n",
       "                    AGE       DIS       RAD       TAX  ...   TAX_TAX  \\\n",
       "CRIM           0.350784 -0.377904  0.622029  0.579564  ...  0.594726   \n",
       "ZN            -0.569537  0.664408 -0.311948 -0.314563  ... -0.314988   \n",
       "INDUS          0.644779 -0.708027  0.595129  0.720760  ...  0.716358   \n",
       "CHAS           0.086518 -0.099176 -0.007368 -0.035587  ... -0.033518   \n",
       "NOX            0.731470 -0.769230  0.611441  0.668023  ...  0.659892   \n",
       "...                 ...       ...       ...       ...  ...       ...   \n",
       "PTRATIO_B     -0.144490  0.174482 -0.238840 -0.231542  ... -0.229326   \n",
       "PTRATIO_LSTAT  0.598034 -0.502168  0.546371  0.595724  ...  0.600361   \n",
       "B_B           -0.298149  0.310875 -0.445681 -0.454398  ... -0.454516   \n",
       "B_LSTAT        0.444783 -0.321935  0.195492  0.261539  ...  0.256909   \n",
       "LSTAT_LSTAT    0.523764 -0.448110  0.451766  0.494704  ...  0.498241   \n",
       "\n",
       "               TAX_PTRATIO     TAX_B  TAX_LSTAT  PTRATIO_PTRATIO  PTRATIO_B  \\\n",
       "CRIM              0.579193  0.228746   0.610104         0.295753  -0.248169   \n",
       "ZN               -0.351212 -0.167503  -0.365627        -0.391015  -0.009200   \n",
       "INDUS             0.712468  0.418263   0.684523         0.397995  -0.166550   \n",
       "CHAS             -0.056008  0.016650  -0.083519        -0.125584   0.000548   \n",
       "NOX               0.627879  0.354314   0.669637         0.213950  -0.269935   \n",
       "...                    ...       ...        ...              ...        ...   \n",
       "PTRATIO_B        -0.156265  0.566177  -0.260748         0.248060   1.000000   \n",
       "PTRATIO_LSTAT     0.633921  0.260543   0.910090         0.527001  -0.144300   \n",
       "B_B              -0.435404  0.403643  -0.475349        -0.174738   0.886724   \n",
       "B_LSTAT           0.281901  0.559713   0.554384         0.262058   0.431927   \n",
       "LSTAT_LSTAT       0.501000  0.192727   0.871089         0.312834  -0.202717   \n",
       "\n",
       "               PTRATIO_LSTAT       B_B   B_LSTAT  LSTAT_LSTAT  \n",
       "CRIM                0.484069 -0.365865  0.196775     0.457213  \n",
       "ZN                 -0.427244  0.190009 -0.318540    -0.323323  \n",
       "INDUS               0.618652 -0.387473  0.394627     0.532496  \n",
       "CHAS               -0.077364  0.041492 -0.010022    -0.047605  \n",
       "NOX                 0.564350 -0.411575  0.360822     0.530723  \n",
       "...                      ...       ...       ...          ...  \n",
       "PTRATIO_B          -0.144300  0.886724  0.431927    -0.202717  \n",
       "PTRATIO_LSTAT       1.000000 -0.389670  0.712103     0.941783  \n",
       "B_B                -0.389670  1.000000  0.285928    -0.355752  \n",
       "B_LSTAT             0.712103  0.285928  1.000000     0.693112  \n",
       "LSTAT_LSTAT         0.941783 -0.355752  0.693112     1.000000  \n",
       "\n",
       "[104 rows x 104 columns]"
      ]
     },
     "execution_count": 7,
     "metadata": {},
     "output_type": "execute_result"
    }
   ],
   "source": [
    "X.corr()"
   ]
  },
  {
   "cell_type": "markdown",
   "id": "d20105ac",
   "metadata": {},
   "source": [
    "# StandardScaler and Transformation"
   ]
  },
  {
   "cell_type": "code",
   "execution_count": 8,
   "id": "01188e8a",
   "metadata": {},
   "outputs": [],
   "source": [
    "from sklearn.model_selection import train_test_split\n",
    "from sklearn.preprocessing import StandardScaler\n",
    "\n",
    "X_train, X_test, y_train, y_test = train_test_split(X, y, test_size=0.2, random_state=12)\n",
    "\n",
    "sc =StandardScaler()\n",
    "X_train_norm = sc.fit_transform(X_train)\n",
    "X_test_norm = sc.transform(X_test)\n"
   ]
  },
  {
   "cell_type": "markdown",
   "id": "007d7c0a",
   "metadata": {},
   "source": [
    "# Linear Regression"
   ]
  },
  {
   "cell_type": "code",
   "execution_count": 9,
   "id": "c6645495",
   "metadata": {},
   "outputs": [
    {
     "data": {
      "text/plain": [
       "LinearRegression()"
      ]
     },
     "execution_count": 9,
     "metadata": {},
     "output_type": "execute_result"
    }
   ],
   "source": [
    "from sklearn.linear_model import LinearRegression\n",
    "from sklearn.metrics import mean_squared_error, r2_score\n",
    "\n",
    "model = LinearRegression()\n",
    "model.fit(X_train, y_train)\n"
   ]
  },
  {
   "cell_type": "code",
   "execution_count": 10,
   "id": "4e2d25bf",
   "metadata": {},
   "outputs": [],
   "source": [
    "pred = model.predict(X_test)"
   ]
  },
  {
   "cell_type": "code",
   "execution_count": 11,
   "id": "94e3dede",
   "metadata": {},
   "outputs": [
    {
     "name": "stdout",
     "output_type": "stream",
     "text": [
      "Coefficients :  [[-6.25995939e+00 -1.33849978e-01 -4.36587938e+00  3.10755245e+01\n",
      "   6.45566922e+01  1.34739182e+01  5.30440250e-01 -7.36643008e+00\n",
      "   3.31675444e+00  2.03022931e-02  8.41685119e+00  1.26509114e-01\n",
      "   1.21705633e+00  7.36059036e-04  3.48647292e-01  2.17533571e-01\n",
      "   4.27670038e+00  4.08621004e-01  1.37914077e-01  2.03996313e-03\n",
      "  -1.38335839e-01  3.52177443e-02 -7.16833069e-03  2.37432260e-01\n",
      "  -3.79069392e-04  1.23687561e-02  2.91528529e-04  4.03683928e-04\n",
      "  -9.60658578e-02 -5.74021786e-01  1.11759473e-02 -4.12204448e-05\n",
      "  -7.27959398e-03 -1.06512275e-02  6.44065898e-04 -6.95760768e-03\n",
      "   8.54163387e-04 -5.68653380e-03  3.04339414e-02 -9.29009424e-02\n",
      "   3.38202628e+00  1.95274530e-01  3.42717262e-03  1.55551983e-01\n",
      "   3.59154808e-03  3.16419548e-04 -4.43201452e-02  2.07937971e-03\n",
      "  -1.06545996e-02  3.10755236e+01 -3.53721836e+01 -5.31942423e+00\n",
      "   9.36403471e-03  2.58334721e+00 -8.55691722e-02 -9.47410920e-03\n",
      "  -1.28580272e+00  2.29419419e-02 -2.16819941e-01 -3.76472360e+01\n",
      "   8.71845071e+00 -3.91532716e-01  1.08873469e+01 -3.35691810e+00\n",
      "   1.92264484e-01 -9.44639989e+00 -1.41706703e-02 -1.24397443e-01\n",
      "   6.63136930e-01 -4.24298503e-02  3.60352679e-01 -5.39369774e-02\n",
      "  -1.62717892e-02 -7.15005042e-01 -1.53582589e-03 -1.40876992e-01\n",
      "   2.21723255e-04  1.59390751e-03  1.27432968e-02 -4.90217778e-04\n",
      "   4.25795078e-03 -3.24570249e-04 -6.56825474e-03  4.30018345e-01\n",
      "  -1.20438382e-01 -4.06489055e-03 -1.43029182e-01 -7.16661225e-03\n",
      "   7.91499799e-02 -9.42627164e-02  4.89133071e-03 -1.03231595e-01\n",
      "   1.36505877e-03 -1.72615616e-02 -5.15389976e-05  4.96376571e-03\n",
      "  -1.57327907e-04 -1.11201347e-03  9.22341030e-03  3.15844403e-05\n",
      "  -5.60493030e-03 -1.27023335e-05 -8.47735221e-04  2.21526753e-02]]\n",
      "Mean Squared error :  15.219040778784603\n",
      "Coefficient of determination :  0.8137439035670948\n"
     ]
    }
   ],
   "source": [
    "print(\"Coefficients : \", model.coef_)\n",
    "print(\"Mean Squared error : \", mean_squared_error(y_test, pred))  \n",
    "print(\"Coefficient of determination : \", r2_score(y_test, pred))\n"
   ]
  },
  {
   "cell_type": "markdown",
   "id": "a465332a",
   "metadata": {},
   "source": [
    "# Lasso Regession"
   ]
  },
  {
   "cell_type": "code",
   "execution_count": 12,
   "id": "e7b102aa",
   "metadata": {},
   "outputs": [],
   "source": [
    "import numpy as np\n",
    "from sklearn.linear_model import Lasso\n",
    "lasso = Lasso(alpha = 1.0)"
   ]
  },
  {
   "cell_type": "code",
   "execution_count": 13,
   "id": "f2cfb569",
   "metadata": {},
   "outputs": [
    {
     "name": "stderr",
     "output_type": "stream",
     "text": [
      "/Users/amandeepkaur/opt/anaconda3/lib/python3.8/site-packages/sklearn/linear_model/_coordinate_descent.py:530: ConvergenceWarning: Objective did not converge. You might want to increase the number of iterations. Duality gap: 2273.120780313978, tolerance: 3.4342154653465347\n",
      "  model = cd_fast.enet_coordinate_descent(\n"
     ]
    },
    {
     "data": {
      "text/plain": [
       "Lasso()"
      ]
     },
     "execution_count": 13,
     "metadata": {},
     "output_type": "execute_result"
    }
   ],
   "source": [
    "lasso.fit(X_train, y_train)"
   ]
  },
  {
   "cell_type": "code",
   "execution_count": 14,
   "id": "2ae578d2",
   "metadata": {},
   "outputs": [],
   "source": [
    "y_pred = lasso.predict(X_test)"
   ]
  },
  {
   "cell_type": "code",
   "execution_count": 15,
   "id": "f8416637",
   "metadata": {},
   "outputs": [
    {
     "data": {
      "text/plain": [
       "array([24.50884792, 17.22857829,  4.7807255 , 28.57790695, 31.44845193,\n",
       "       24.22413281, 17.22007009, 40.76622532, 35.27618202, 24.18456478,\n",
       "       22.04753986, 22.38465258, 20.08110813, 19.37019304, 35.21608508,\n",
       "       48.47777339, 16.69299855, 24.53882258, 22.10972286, 21.98094353,\n",
       "       32.06674626, 15.52541152, 23.47681778,  7.37780313, 25.42760952,\n",
       "       19.71956471, 19.24165184, 19.59065349, 23.65516653, 42.07771131,\n",
       "       26.21421948, 28.33307549, 15.42194646, 33.05605048, 50.02743269,\n",
       "       14.12793184, 18.21865461, 44.92768543, 13.60564289, 24.27118712,\n",
       "       17.65654854, 26.66982958, 20.81492436, 36.03911237, 20.74941801,\n",
       "       17.26881369, 20.14346172, 33.97337473, 42.78111265, 21.79669661,\n",
       "       27.23130883, 19.28825487, 17.48587394, 24.74943719, 14.87080507,\n",
       "       17.14364901, 19.32063781, 19.49825671, 12.98903013, 18.16277439,\n",
       "       17.99691289, 31.3088577 , 20.84707662, 17.17070598, 16.38513209,\n",
       "       25.10458189, 22.71680995, 15.28478824, 22.5212539 , 44.53072425,\n",
       "       15.30863163,  6.77679338, 22.43767791, 20.00235039, 15.56235592,\n",
       "       32.38244362, 19.93211544,  8.67476524, 23.26883585, 36.18276926,\n",
       "       22.71263663, 22.55348292, 33.19372859, 13.38346857, 12.40972595,\n",
       "       20.72485788, 25.8292101 , 22.64921454, 23.48155332, 20.17198117,\n",
       "       18.06410205, 19.40197188, 31.3747254 , 24.36700427, 28.55750531,\n",
       "       18.2231631 , 22.72381771, 14.14076735, 34.86929834, 15.06546582,\n",
       "       32.94135694, 22.20028504])"
      ]
     },
     "execution_count": 15,
     "metadata": {},
     "output_type": "execute_result"
    }
   ],
   "source": [
    "y_pred"
   ]
  },
  {
   "cell_type": "code",
   "execution_count": 16,
   "id": "f10d005b",
   "metadata": {},
   "outputs": [
    {
     "name": "stdout",
     "output_type": "stream",
     "text": [
      "slope : 0.00\n"
     ]
    }
   ],
   "source": [
    "print(\"slope : %.2f\" %lasso.coef_[0])"
   ]
  },
  {
   "cell_type": "code",
   "execution_count": 17,
   "id": "5dc4256a",
   "metadata": {},
   "outputs": [
    {
     "name": "stdout",
     "output_type": "stream",
     "text": [
      "Intercept: 15.90\n"
     ]
    }
   ],
   "source": [
    "print(\"Intercept: %.2f\" %lasso.intercept_)"
   ]
  },
  {
   "cell_type": "code",
   "execution_count": 18,
   "id": "604abbbb",
   "metadata": {},
   "outputs": [
    {
     "data": {
      "text/plain": [
       "14.673148766170538"
      ]
     },
     "execution_count": 18,
     "metadata": {},
     "output_type": "execute_result"
    }
   ],
   "source": [
    "from sklearn.metrics import mean_squared_error\n",
    "mean_squared_error(y_test, y_pred)"
   ]
  },
  {
   "cell_type": "code",
   "execution_count": 19,
   "id": "6cbff3d2",
   "metadata": {},
   "outputs": [
    {
     "data": {
      "text/plain": [
       "3.830554629054458"
      ]
     },
     "execution_count": 19,
     "metadata": {},
     "output_type": "execute_result"
    }
   ],
   "source": [
    "np.sqrt(mean_squared_error(y_test, y_pred))"
   ]
  },
  {
   "cell_type": "code",
   "execution_count": 20,
   "id": "136338f7",
   "metadata": {},
   "outputs": [
    {
     "name": "stdout",
     "output_type": "stream",
     "text": [
      "Rsquared : 0.82 \n"
     ]
    }
   ],
   "source": [
    "print(\"Rsquared : %.2f \" %lasso.score(X_test, y_test) )"
   ]
  },
  {
   "cell_type": "markdown",
   "id": "2a2e317b",
   "metadata": {},
   "source": [
    "# Ridge Regression"
   ]
  },
  {
   "cell_type": "code",
   "execution_count": 21,
   "id": "133c48fe",
   "metadata": {},
   "outputs": [],
   "source": [
    "from sklearn.linear_model import Ridge\n",
    "ridge = Ridge(alpha = 0.5)"
   ]
  },
  {
   "cell_type": "code",
   "execution_count": 22,
   "id": "14fe7ae3",
   "metadata": {},
   "outputs": [
    {
     "data": {
      "text/plain": [
       "Ridge(alpha=0.5)"
      ]
     },
     "execution_count": 22,
     "metadata": {},
     "output_type": "execute_result"
    }
   ],
   "source": [
    "ridge.fit(X_train, y_train)"
   ]
  },
  {
   "cell_type": "code",
   "execution_count": 23,
   "id": "36c3fdb5",
   "metadata": {},
   "outputs": [],
   "source": [
    "y_pred = ridge.predict(X_test)"
   ]
  },
  {
   "cell_type": "code",
   "execution_count": 24,
   "id": "77052cc5",
   "metadata": {},
   "outputs": [
    {
     "data": {
      "text/plain": [
       "array([[23.75893187],\n",
       "       [16.9613465 ],\n",
       "       [ 3.88497481],\n",
       "       [29.57934783],\n",
       "       [31.43050243],\n",
       "       [23.43255732],\n",
       "       [17.2134467 ],\n",
       "       [46.04199317],\n",
       "       [33.67947548],\n",
       "       [22.45945658],\n",
       "       [23.97777065],\n",
       "       [22.45317713],\n",
       "       [19.45680761],\n",
       "       [19.55277087],\n",
       "       [35.29113648],\n",
       "       [47.19272524],\n",
       "       [30.76250507],\n",
       "       [21.39498266],\n",
       "       [14.26651565],\n",
       "       [21.72047327],\n",
       "       [28.21464693],\n",
       "       [16.43439377],\n",
       "       [22.16503608],\n",
       "       [ 9.05653377],\n",
       "       [25.27724118],\n",
       "       [18.8990517 ],\n",
       "       [18.7371439 ],\n",
       "       [14.98124658],\n",
       "       [22.29083943],\n",
       "       [42.8696335 ],\n",
       "       [27.14716939],\n",
       "       [27.48593281],\n",
       "       [15.76522775],\n",
       "       [32.79318333],\n",
       "       [57.07849849],\n",
       "       [13.48478277],\n",
       "       [18.32854043],\n",
       "       [47.21885976],\n",
       "       [17.62804752],\n",
       "       [22.23969676],\n",
       "       [17.72421195],\n",
       "       [24.1790897 ],\n",
       "       [19.44321855],\n",
       "       [36.21288487],\n",
       "       [20.97924426],\n",
       "       [18.85043131],\n",
       "       [22.97874281],\n",
       "       [39.30044325],\n",
       "       [49.19388862],\n",
       "       [21.58476699],\n",
       "       [33.6946573 ],\n",
       "       [24.86742615],\n",
       "       [14.03765552],\n",
       "       [24.50913854],\n",
       "       [14.14361432],\n",
       "       [17.34468479],\n",
       "       [17.66048569],\n",
       "       [20.91411027],\n",
       "       [16.96522741],\n",
       "       [17.48165682],\n",
       "       [17.62089258],\n",
       "       [31.12431565],\n",
       "       [21.16355823],\n",
       "       [17.09657394],\n",
       "       [19.30857166],\n",
       "       [24.66365729],\n",
       "       [22.16938587],\n",
       "       [12.86592533],\n",
       "       [23.31338273],\n",
       "       [51.68532112],\n",
       "       [14.41412468],\n",
       "       [ 9.53862851],\n",
       "       [22.81105989],\n",
       "       [20.7197058 ],\n",
       "       [15.68985456],\n",
       "       [27.62250906],\n",
       "       [20.37251284],\n",
       "       [ 7.19585751],\n",
       "       [23.39154444],\n",
       "       [35.30239197],\n",
       "       [24.26650581],\n",
       "       [22.51558874],\n",
       "       [32.06838565],\n",
       "       [12.03058599],\n",
       "       [12.48926874],\n",
       "       [21.10672914],\n",
       "       [25.65883294],\n",
       "       [24.0271931 ],\n",
       "       [24.32526959],\n",
       "       [18.90798377],\n",
       "       [19.81897881],\n",
       "       [19.02139891],\n",
       "       [31.38585927],\n",
       "       [25.23516486],\n",
       "       [29.7077514 ],\n",
       "       [18.89875571],\n",
       "       [22.74989323],\n",
       "       [14.57612279],\n",
       "       [34.31803848],\n",
       "       [15.5063811 ],\n",
       "       [33.12049939],\n",
       "       [21.68727376]])"
      ]
     },
     "execution_count": 24,
     "metadata": {},
     "output_type": "execute_result"
    }
   ],
   "source": [
    "y_pred"
   ]
  },
  {
   "cell_type": "code",
   "execution_count": 25,
   "id": "af29a4ee",
   "metadata": {},
   "outputs": [
    {
     "ename": "TypeError",
     "evalue": "only size-1 arrays can be converted to Python scalars",
     "output_type": "error",
     "traceback": [
      "\u001b[0;31m---------------------------------------------------------------------------\u001b[0m",
      "\u001b[0;31mTypeError\u001b[0m                                 Traceback (most recent call last)",
      "\u001b[0;32m<ipython-input-25-86f7de4b97fb>\u001b[0m in \u001b[0;36m<module>\u001b[0;34m\u001b[0m\n\u001b[0;32m----> 1\u001b[0;31m \u001b[0mprint\u001b[0m\u001b[0;34m(\u001b[0m\u001b[0;34m\"slope : %.2f\"\u001b[0m \u001b[0;34m%\u001b[0m\u001b[0mridge\u001b[0m\u001b[0;34m.\u001b[0m\u001b[0mcoef_\u001b[0m\u001b[0;34m[\u001b[0m\u001b[0;36m0\u001b[0m\u001b[0;34m]\u001b[0m\u001b[0;34m)\u001b[0m\u001b[0;34m\u001b[0m\u001b[0;34m\u001b[0m\u001b[0m\n\u001b[0m",
      "\u001b[0;31mTypeError\u001b[0m: only size-1 arrays can be converted to Python scalars"
     ]
    }
   ],
   "source": [
    "print(\"slope : %.2f\" %ridge.coef_[0])"
   ]
  },
  {
   "cell_type": "code",
   "execution_count": 26,
   "id": "9f5a8ece",
   "metadata": {},
   "outputs": [
    {
     "name": "stdout",
     "output_type": "stream",
     "text": [
      "Intercept: -46.22\n"
     ]
    }
   ],
   "source": [
    "print(\"Intercept: %.2f\" %ridge.intercept_)"
   ]
  },
  {
   "cell_type": "code",
   "execution_count": null,
   "id": "d4e99704",
   "metadata": {},
   "outputs": [],
   "source": []
  },
  {
   "cell_type": "code",
   "execution_count": 27,
   "id": "c2256f85",
   "metadata": {},
   "outputs": [
    {
     "data": {
      "text/plain": [
       "15.295170533691994"
      ]
     },
     "execution_count": 27,
     "metadata": {},
     "output_type": "execute_result"
    }
   ],
   "source": [
    "from sklearn.metrics import mean_squared_error\n",
    "mean_squared_error(y_test, y_pred)"
   ]
  },
  {
   "cell_type": "code",
   "execution_count": 28,
   "id": "060ba5d8",
   "metadata": {},
   "outputs": [
    {
     "data": {
      "text/plain": [
       "3.9109040558024426"
      ]
     },
     "execution_count": 28,
     "metadata": {},
     "output_type": "execute_result"
    }
   ],
   "source": [
    "np.sqrt(mean_squared_error(y_test, y_pred))"
   ]
  },
  {
   "cell_type": "code",
   "execution_count": 29,
   "id": "a30b6f80",
   "metadata": {},
   "outputs": [
    {
     "name": "stdout",
     "output_type": "stream",
     "text": [
      "Rsquared: 0.81\n"
     ]
    }
   ],
   "source": [
    "print(\"Rsquared: %.2f\" %ridge.score(X_test, y_test))"
   ]
  },
  {
   "cell_type": "markdown",
   "id": "624d5e84",
   "metadata": {},
   "source": [
    "# Hyperparameter Tuning using Grid Srach"
   ]
  },
  {
   "cell_type": "code",
   "execution_count": 30,
   "id": "a5294a71",
   "metadata": {},
   "outputs": [],
   "source": [
    "from sklearn.model_selection import train_test_split\n",
    "X_train, X_test, y_train, y_test =train_test_split(X, y, test_size = 0.3, random_state =1)"
   ]
  },
  {
   "cell_type": "code",
   "execution_count": 31,
   "id": "518d0d4d",
   "metadata": {},
   "outputs": [],
   "source": [
    "from sklearn.tree import DecisionTreeRegressor\n",
    "dtr = DecisionTreeRegressor()"
   ]
  },
  {
   "cell_type": "code",
   "execution_count": 32,
   "id": "185e8058",
   "metadata": {},
   "outputs": [
    {
     "data": {
      "text/plain": [
       "DecisionTreeRegressor()"
      ]
     },
     "execution_count": 32,
     "metadata": {},
     "output_type": "execute_result"
    }
   ],
   "source": [
    "dtr.fit(X_train, y_train)"
   ]
  },
  {
   "cell_type": "code",
   "execution_count": 33,
   "id": "76499ddc",
   "metadata": {},
   "outputs": [
    {
     "name": "stdout",
     "output_type": "stream",
     "text": [
      "0.779576215129226\n"
     ]
    }
   ],
   "source": [
    "print(dtr.score(X_test, y_test))"
   ]
  },
  {
   "cell_type": "code",
   "execution_count": 35,
   "id": "3d4221bb",
   "metadata": {},
   "outputs": [],
   "source": [
    "from sklearn.model_selection import GridSearchCV\n"
   ]
  },
  {
   "cell_type": "code",
   "execution_count": 36,
   "id": "0df8e23c",
   "metadata": {},
   "outputs": [],
   "source": [
    "param_grid = { 'bootstrap' :[True], 'max_depth' : [5, 10, None], \n",
    "              'max_features' : ['auto', 'log2'], 'n_estimators' :[5, 6, 7, 8, 9, 10, 11, 12, 13, 15]}"
   ]
  },
  {
   "cell_type": "code",
   "execution_count": 38,
   "id": "07cfb333",
   "metadata": {},
   "outputs": [],
   "source": [
    "from sklearn.ensemble import RandomForestRegressor\n",
    "rfr = RandomForestRegressor(random_state = 1)"
   ]
  },
  {
   "cell_type": "code",
   "execution_count": 39,
   "id": "2dcc8bcf",
   "metadata": {},
   "outputs": [],
   "source": [
    "g_search = GridSearchCV(estimator = rfr, param_grid = param_grid,\n",
    "                       cv = 3, n_jobs= 1, verbose = 0, return_train_score = True)"
   ]
  },
  {
   "cell_type": "code",
   "execution_count": 43,
   "id": "83e37562",
   "metadata": {},
   "outputs": [
    {
     "name": "stderr",
     "output_type": "stream",
     "text": [
      "/Users/amandeepkaur/opt/anaconda3/lib/python3.8/site-packages/sklearn/model_selection/_validation.py:593: DataConversionWarning: A column-vector y was passed when a 1d array was expected. Please change the shape of y to (n_samples,), for example using ravel().\n",
      "  estimator.fit(X_train, y_train, **fit_params)\n",
      "/Users/amandeepkaur/opt/anaconda3/lib/python3.8/site-packages/sklearn/model_selection/_validation.py:593: DataConversionWarning: A column-vector y was passed when a 1d array was expected. Please change the shape of y to (n_samples,), for example using ravel().\n",
      "  estimator.fit(X_train, y_train, **fit_params)\n",
      "/Users/amandeepkaur/opt/anaconda3/lib/python3.8/site-packages/sklearn/model_selection/_validation.py:593: DataConversionWarning: A column-vector y was passed when a 1d array was expected. Please change the shape of y to (n_samples,), for example using ravel().\n",
      "  estimator.fit(X_train, y_train, **fit_params)\n",
      "/Users/amandeepkaur/opt/anaconda3/lib/python3.8/site-packages/sklearn/model_selection/_validation.py:593: DataConversionWarning: A column-vector y was passed when a 1d array was expected. Please change the shape of y to (n_samples,), for example using ravel().\n",
      "  estimator.fit(X_train, y_train, **fit_params)\n",
      "/Users/amandeepkaur/opt/anaconda3/lib/python3.8/site-packages/sklearn/model_selection/_validation.py:593: DataConversionWarning: A column-vector y was passed when a 1d array was expected. Please change the shape of y to (n_samples,), for example using ravel().\n",
      "  estimator.fit(X_train, y_train, **fit_params)\n",
      "/Users/amandeepkaur/opt/anaconda3/lib/python3.8/site-packages/sklearn/model_selection/_validation.py:593: DataConversionWarning: A column-vector y was passed when a 1d array was expected. Please change the shape of y to (n_samples,), for example using ravel().\n",
      "  estimator.fit(X_train, y_train, **fit_params)\n",
      "/Users/amandeepkaur/opt/anaconda3/lib/python3.8/site-packages/sklearn/model_selection/_validation.py:593: DataConversionWarning: A column-vector y was passed when a 1d array was expected. Please change the shape of y to (n_samples,), for example using ravel().\n",
      "  estimator.fit(X_train, y_train, **fit_params)\n",
      "/Users/amandeepkaur/opt/anaconda3/lib/python3.8/site-packages/sklearn/model_selection/_validation.py:593: DataConversionWarning: A column-vector y was passed when a 1d array was expected. Please change the shape of y to (n_samples,), for example using ravel().\n",
      "  estimator.fit(X_train, y_train, **fit_params)\n",
      "/Users/amandeepkaur/opt/anaconda3/lib/python3.8/site-packages/sklearn/model_selection/_validation.py:593: DataConversionWarning: A column-vector y was passed when a 1d array was expected. Please change the shape of y to (n_samples,), for example using ravel().\n",
      "  estimator.fit(X_train, y_train, **fit_params)\n",
      "/Users/amandeepkaur/opt/anaconda3/lib/python3.8/site-packages/sklearn/model_selection/_validation.py:593: DataConversionWarning: A column-vector y was passed when a 1d array was expected. Please change the shape of y to (n_samples,), for example using ravel().\n",
      "  estimator.fit(X_train, y_train, **fit_params)\n",
      "/Users/amandeepkaur/opt/anaconda3/lib/python3.8/site-packages/sklearn/model_selection/_validation.py:593: DataConversionWarning: A column-vector y was passed when a 1d array was expected. Please change the shape of y to (n_samples,), for example using ravel().\n",
      "  estimator.fit(X_train, y_train, **fit_params)\n",
      "/Users/amandeepkaur/opt/anaconda3/lib/python3.8/site-packages/sklearn/model_selection/_validation.py:593: DataConversionWarning: A column-vector y was passed when a 1d array was expected. Please change the shape of y to (n_samples,), for example using ravel().\n",
      "  estimator.fit(X_train, y_train, **fit_params)\n",
      "/Users/amandeepkaur/opt/anaconda3/lib/python3.8/site-packages/sklearn/model_selection/_validation.py:593: DataConversionWarning: A column-vector y was passed when a 1d array was expected. Please change the shape of y to (n_samples,), for example using ravel().\n",
      "  estimator.fit(X_train, y_train, **fit_params)\n",
      "/Users/amandeepkaur/opt/anaconda3/lib/python3.8/site-packages/sklearn/model_selection/_validation.py:593: DataConversionWarning: A column-vector y was passed when a 1d array was expected. Please change the shape of y to (n_samples,), for example using ravel().\n",
      "  estimator.fit(X_train, y_train, **fit_params)\n",
      "/Users/amandeepkaur/opt/anaconda3/lib/python3.8/site-packages/sklearn/model_selection/_validation.py:593: DataConversionWarning: A column-vector y was passed when a 1d array was expected. Please change the shape of y to (n_samples,), for example using ravel().\n",
      "  estimator.fit(X_train, y_train, **fit_params)\n",
      "/Users/amandeepkaur/opt/anaconda3/lib/python3.8/site-packages/sklearn/model_selection/_validation.py:593: DataConversionWarning: A column-vector y was passed when a 1d array was expected. Please change the shape of y to (n_samples,), for example using ravel().\n",
      "  estimator.fit(X_train, y_train, **fit_params)\n",
      "/Users/amandeepkaur/opt/anaconda3/lib/python3.8/site-packages/sklearn/model_selection/_validation.py:593: DataConversionWarning: A column-vector y was passed when a 1d array was expected. Please change the shape of y to (n_samples,), for example using ravel().\n",
      "  estimator.fit(X_train, y_train, **fit_params)\n",
      "/Users/amandeepkaur/opt/anaconda3/lib/python3.8/site-packages/sklearn/model_selection/_validation.py:593: DataConversionWarning: A column-vector y was passed when a 1d array was expected. Please change the shape of y to (n_samples,), for example using ravel().\n",
      "  estimator.fit(X_train, y_train, **fit_params)\n",
      "/Users/amandeepkaur/opt/anaconda3/lib/python3.8/site-packages/sklearn/model_selection/_validation.py:593: DataConversionWarning: A column-vector y was passed when a 1d array was expected. Please change the shape of y to (n_samples,), for example using ravel().\n",
      "  estimator.fit(X_train, y_train, **fit_params)\n",
      "/Users/amandeepkaur/opt/anaconda3/lib/python3.8/site-packages/sklearn/model_selection/_validation.py:593: DataConversionWarning: A column-vector y was passed when a 1d array was expected. Please change the shape of y to (n_samples,), for example using ravel().\n",
      "  estimator.fit(X_train, y_train, **fit_params)\n",
      "/Users/amandeepkaur/opt/anaconda3/lib/python3.8/site-packages/sklearn/model_selection/_validation.py:593: DataConversionWarning: A column-vector y was passed when a 1d array was expected. Please change the shape of y to (n_samples,), for example using ravel().\n",
      "  estimator.fit(X_train, y_train, **fit_params)\n",
      "/Users/amandeepkaur/opt/anaconda3/lib/python3.8/site-packages/sklearn/model_selection/_validation.py:593: DataConversionWarning: A column-vector y was passed when a 1d array was expected. Please change the shape of y to (n_samples,), for example using ravel().\n",
      "  estimator.fit(X_train, y_train, **fit_params)\n",
      "/Users/amandeepkaur/opt/anaconda3/lib/python3.8/site-packages/sklearn/model_selection/_validation.py:593: DataConversionWarning: A column-vector y was passed when a 1d array was expected. Please change the shape of y to (n_samples,), for example using ravel().\n",
      "  estimator.fit(X_train, y_train, **fit_params)\n",
      "/Users/amandeepkaur/opt/anaconda3/lib/python3.8/site-packages/sklearn/model_selection/_validation.py:593: DataConversionWarning: A column-vector y was passed when a 1d array was expected. Please change the shape of y to (n_samples,), for example using ravel().\n",
      "  estimator.fit(X_train, y_train, **fit_params)\n",
      "/Users/amandeepkaur/opt/anaconda3/lib/python3.8/site-packages/sklearn/model_selection/_validation.py:593: DataConversionWarning: A column-vector y was passed when a 1d array was expected. Please change the shape of y to (n_samples,), for example using ravel().\n",
      "  estimator.fit(X_train, y_train, **fit_params)\n",
      "/Users/amandeepkaur/opt/anaconda3/lib/python3.8/site-packages/sklearn/model_selection/_validation.py:593: DataConversionWarning: A column-vector y was passed when a 1d array was expected. Please change the shape of y to (n_samples,), for example using ravel().\n",
      "  estimator.fit(X_train, y_train, **fit_params)\n",
      "/Users/amandeepkaur/opt/anaconda3/lib/python3.8/site-packages/sklearn/model_selection/_validation.py:593: DataConversionWarning: A column-vector y was passed when a 1d array was expected. Please change the shape of y to (n_samples,), for example using ravel().\n",
      "  estimator.fit(X_train, y_train, **fit_params)\n",
      "/Users/amandeepkaur/opt/anaconda3/lib/python3.8/site-packages/sklearn/model_selection/_validation.py:593: DataConversionWarning: A column-vector y was passed when a 1d array was expected. Please change the shape of y to (n_samples,), for example using ravel().\n",
      "  estimator.fit(X_train, y_train, **fit_params)\n",
      "/Users/amandeepkaur/opt/anaconda3/lib/python3.8/site-packages/sklearn/model_selection/_validation.py:593: DataConversionWarning: A column-vector y was passed when a 1d array was expected. Please change the shape of y to (n_samples,), for example using ravel().\n",
      "  estimator.fit(X_train, y_train, **fit_params)\n",
      "/Users/amandeepkaur/opt/anaconda3/lib/python3.8/site-packages/sklearn/model_selection/_validation.py:593: DataConversionWarning: A column-vector y was passed when a 1d array was expected. Please change the shape of y to (n_samples,), for example using ravel().\n",
      "  estimator.fit(X_train, y_train, **fit_params)\n"
     ]
    },
    {
     "name": "stderr",
     "output_type": "stream",
     "text": [
      "/Users/amandeepkaur/opt/anaconda3/lib/python3.8/site-packages/sklearn/model_selection/_validation.py:593: DataConversionWarning: A column-vector y was passed when a 1d array was expected. Please change the shape of y to (n_samples,), for example using ravel().\n",
      "  estimator.fit(X_train, y_train, **fit_params)\n",
      "/Users/amandeepkaur/opt/anaconda3/lib/python3.8/site-packages/sklearn/model_selection/_validation.py:593: DataConversionWarning: A column-vector y was passed when a 1d array was expected. Please change the shape of y to (n_samples,), for example using ravel().\n",
      "  estimator.fit(X_train, y_train, **fit_params)\n",
      "/Users/amandeepkaur/opt/anaconda3/lib/python3.8/site-packages/sklearn/model_selection/_validation.py:593: DataConversionWarning: A column-vector y was passed when a 1d array was expected. Please change the shape of y to (n_samples,), for example using ravel().\n",
      "  estimator.fit(X_train, y_train, **fit_params)\n",
      "/Users/amandeepkaur/opt/anaconda3/lib/python3.8/site-packages/sklearn/model_selection/_validation.py:593: DataConversionWarning: A column-vector y was passed when a 1d array was expected. Please change the shape of y to (n_samples,), for example using ravel().\n",
      "  estimator.fit(X_train, y_train, **fit_params)\n",
      "/Users/amandeepkaur/opt/anaconda3/lib/python3.8/site-packages/sklearn/model_selection/_validation.py:593: DataConversionWarning: A column-vector y was passed when a 1d array was expected. Please change the shape of y to (n_samples,), for example using ravel().\n",
      "  estimator.fit(X_train, y_train, **fit_params)\n",
      "/Users/amandeepkaur/opt/anaconda3/lib/python3.8/site-packages/sklearn/model_selection/_validation.py:593: DataConversionWarning: A column-vector y was passed when a 1d array was expected. Please change the shape of y to (n_samples,), for example using ravel().\n",
      "  estimator.fit(X_train, y_train, **fit_params)\n",
      "/Users/amandeepkaur/opt/anaconda3/lib/python3.8/site-packages/sklearn/model_selection/_validation.py:593: DataConversionWarning: A column-vector y was passed when a 1d array was expected. Please change the shape of y to (n_samples,), for example using ravel().\n",
      "  estimator.fit(X_train, y_train, **fit_params)\n",
      "/Users/amandeepkaur/opt/anaconda3/lib/python3.8/site-packages/sklearn/model_selection/_validation.py:593: DataConversionWarning: A column-vector y was passed when a 1d array was expected. Please change the shape of y to (n_samples,), for example using ravel().\n",
      "  estimator.fit(X_train, y_train, **fit_params)\n",
      "/Users/amandeepkaur/opt/anaconda3/lib/python3.8/site-packages/sklearn/model_selection/_validation.py:593: DataConversionWarning: A column-vector y was passed when a 1d array was expected. Please change the shape of y to (n_samples,), for example using ravel().\n",
      "  estimator.fit(X_train, y_train, **fit_params)\n",
      "/Users/amandeepkaur/opt/anaconda3/lib/python3.8/site-packages/sklearn/model_selection/_validation.py:593: DataConversionWarning: A column-vector y was passed when a 1d array was expected. Please change the shape of y to (n_samples,), for example using ravel().\n",
      "  estimator.fit(X_train, y_train, **fit_params)\n",
      "/Users/amandeepkaur/opt/anaconda3/lib/python3.8/site-packages/sklearn/model_selection/_validation.py:593: DataConversionWarning: A column-vector y was passed when a 1d array was expected. Please change the shape of y to (n_samples,), for example using ravel().\n",
      "  estimator.fit(X_train, y_train, **fit_params)\n",
      "/Users/amandeepkaur/opt/anaconda3/lib/python3.8/site-packages/sklearn/model_selection/_validation.py:593: DataConversionWarning: A column-vector y was passed when a 1d array was expected. Please change the shape of y to (n_samples,), for example using ravel().\n",
      "  estimator.fit(X_train, y_train, **fit_params)\n",
      "/Users/amandeepkaur/opt/anaconda3/lib/python3.8/site-packages/sklearn/model_selection/_validation.py:593: DataConversionWarning: A column-vector y was passed when a 1d array was expected. Please change the shape of y to (n_samples,), for example using ravel().\n",
      "  estimator.fit(X_train, y_train, **fit_params)\n",
      "/Users/amandeepkaur/opt/anaconda3/lib/python3.8/site-packages/sklearn/model_selection/_validation.py:593: DataConversionWarning: A column-vector y was passed when a 1d array was expected. Please change the shape of y to (n_samples,), for example using ravel().\n",
      "  estimator.fit(X_train, y_train, **fit_params)\n",
      "/Users/amandeepkaur/opt/anaconda3/lib/python3.8/site-packages/sklearn/model_selection/_validation.py:593: DataConversionWarning: A column-vector y was passed when a 1d array was expected. Please change the shape of y to (n_samples,), for example using ravel().\n",
      "  estimator.fit(X_train, y_train, **fit_params)\n",
      "/Users/amandeepkaur/opt/anaconda3/lib/python3.8/site-packages/sklearn/model_selection/_validation.py:593: DataConversionWarning: A column-vector y was passed when a 1d array was expected. Please change the shape of y to (n_samples,), for example using ravel().\n",
      "  estimator.fit(X_train, y_train, **fit_params)\n",
      "/Users/amandeepkaur/opt/anaconda3/lib/python3.8/site-packages/sklearn/model_selection/_validation.py:593: DataConversionWarning: A column-vector y was passed when a 1d array was expected. Please change the shape of y to (n_samples,), for example using ravel().\n",
      "  estimator.fit(X_train, y_train, **fit_params)\n",
      "/Users/amandeepkaur/opt/anaconda3/lib/python3.8/site-packages/sklearn/model_selection/_validation.py:593: DataConversionWarning: A column-vector y was passed when a 1d array was expected. Please change the shape of y to (n_samples,), for example using ravel().\n",
      "  estimator.fit(X_train, y_train, **fit_params)\n",
      "/Users/amandeepkaur/opt/anaconda3/lib/python3.8/site-packages/sklearn/model_selection/_validation.py:593: DataConversionWarning: A column-vector y was passed when a 1d array was expected. Please change the shape of y to (n_samples,), for example using ravel().\n",
      "  estimator.fit(X_train, y_train, **fit_params)\n",
      "/Users/amandeepkaur/opt/anaconda3/lib/python3.8/site-packages/sklearn/model_selection/_validation.py:593: DataConversionWarning: A column-vector y was passed when a 1d array was expected. Please change the shape of y to (n_samples,), for example using ravel().\n",
      "  estimator.fit(X_train, y_train, **fit_params)\n",
      "/Users/amandeepkaur/opt/anaconda3/lib/python3.8/site-packages/sklearn/model_selection/_validation.py:593: DataConversionWarning: A column-vector y was passed when a 1d array was expected. Please change the shape of y to (n_samples,), for example using ravel().\n",
      "  estimator.fit(X_train, y_train, **fit_params)\n",
      "/Users/amandeepkaur/opt/anaconda3/lib/python3.8/site-packages/sklearn/model_selection/_validation.py:593: DataConversionWarning: A column-vector y was passed when a 1d array was expected. Please change the shape of y to (n_samples,), for example using ravel().\n",
      "  estimator.fit(X_train, y_train, **fit_params)\n",
      "/Users/amandeepkaur/opt/anaconda3/lib/python3.8/site-packages/sklearn/model_selection/_validation.py:593: DataConversionWarning: A column-vector y was passed when a 1d array was expected. Please change the shape of y to (n_samples,), for example using ravel().\n",
      "  estimator.fit(X_train, y_train, **fit_params)\n",
      "/Users/amandeepkaur/opt/anaconda3/lib/python3.8/site-packages/sklearn/model_selection/_validation.py:593: DataConversionWarning: A column-vector y was passed when a 1d array was expected. Please change the shape of y to (n_samples,), for example using ravel().\n",
      "  estimator.fit(X_train, y_train, **fit_params)\n",
      "/Users/amandeepkaur/opt/anaconda3/lib/python3.8/site-packages/sklearn/model_selection/_validation.py:593: DataConversionWarning: A column-vector y was passed when a 1d array was expected. Please change the shape of y to (n_samples,), for example using ravel().\n",
      "  estimator.fit(X_train, y_train, **fit_params)\n",
      "/Users/amandeepkaur/opt/anaconda3/lib/python3.8/site-packages/sklearn/model_selection/_validation.py:593: DataConversionWarning: A column-vector y was passed when a 1d array was expected. Please change the shape of y to (n_samples,), for example using ravel().\n",
      "  estimator.fit(X_train, y_train, **fit_params)\n",
      "/Users/amandeepkaur/opt/anaconda3/lib/python3.8/site-packages/sklearn/model_selection/_validation.py:593: DataConversionWarning: A column-vector y was passed when a 1d array was expected. Please change the shape of y to (n_samples,), for example using ravel().\n",
      "  estimator.fit(X_train, y_train, **fit_params)\n",
      "/Users/amandeepkaur/opt/anaconda3/lib/python3.8/site-packages/sklearn/model_selection/_validation.py:593: DataConversionWarning: A column-vector y was passed when a 1d array was expected. Please change the shape of y to (n_samples,), for example using ravel().\n",
      "  estimator.fit(X_train, y_train, **fit_params)\n",
      "/Users/amandeepkaur/opt/anaconda3/lib/python3.8/site-packages/sklearn/model_selection/_validation.py:593: DataConversionWarning: A column-vector y was passed when a 1d array was expected. Please change the shape of y to (n_samples,), for example using ravel().\n",
      "  estimator.fit(X_train, y_train, **fit_params)\n",
      "/Users/amandeepkaur/opt/anaconda3/lib/python3.8/site-packages/sklearn/model_selection/_validation.py:593: DataConversionWarning: A column-vector y was passed when a 1d array was expected. Please change the shape of y to (n_samples,), for example using ravel().\n",
      "  estimator.fit(X_train, y_train, **fit_params)\n"
     ]
    },
    {
     "name": "stderr",
     "output_type": "stream",
     "text": [
      "/Users/amandeepkaur/opt/anaconda3/lib/python3.8/site-packages/sklearn/model_selection/_validation.py:593: DataConversionWarning: A column-vector y was passed when a 1d array was expected. Please change the shape of y to (n_samples,), for example using ravel().\n",
      "  estimator.fit(X_train, y_train, **fit_params)\n",
      "/Users/amandeepkaur/opt/anaconda3/lib/python3.8/site-packages/sklearn/model_selection/_validation.py:593: DataConversionWarning: A column-vector y was passed when a 1d array was expected. Please change the shape of y to (n_samples,), for example using ravel().\n",
      "  estimator.fit(X_train, y_train, **fit_params)\n",
      "/Users/amandeepkaur/opt/anaconda3/lib/python3.8/site-packages/sklearn/model_selection/_validation.py:593: DataConversionWarning: A column-vector y was passed when a 1d array was expected. Please change the shape of y to (n_samples,), for example using ravel().\n",
      "  estimator.fit(X_train, y_train, **fit_params)\n",
      "/Users/amandeepkaur/opt/anaconda3/lib/python3.8/site-packages/sklearn/model_selection/_validation.py:593: DataConversionWarning: A column-vector y was passed when a 1d array was expected. Please change the shape of y to (n_samples,), for example using ravel().\n",
      "  estimator.fit(X_train, y_train, **fit_params)\n",
      "/Users/amandeepkaur/opt/anaconda3/lib/python3.8/site-packages/sklearn/model_selection/_validation.py:593: DataConversionWarning: A column-vector y was passed when a 1d array was expected. Please change the shape of y to (n_samples,), for example using ravel().\n",
      "  estimator.fit(X_train, y_train, **fit_params)\n",
      "/Users/amandeepkaur/opt/anaconda3/lib/python3.8/site-packages/sklearn/model_selection/_validation.py:593: DataConversionWarning: A column-vector y was passed when a 1d array was expected. Please change the shape of y to (n_samples,), for example using ravel().\n",
      "  estimator.fit(X_train, y_train, **fit_params)\n",
      "/Users/amandeepkaur/opt/anaconda3/lib/python3.8/site-packages/sklearn/model_selection/_validation.py:593: DataConversionWarning: A column-vector y was passed when a 1d array was expected. Please change the shape of y to (n_samples,), for example using ravel().\n",
      "  estimator.fit(X_train, y_train, **fit_params)\n",
      "/Users/amandeepkaur/opt/anaconda3/lib/python3.8/site-packages/sklearn/model_selection/_validation.py:593: DataConversionWarning: A column-vector y was passed when a 1d array was expected. Please change the shape of y to (n_samples,), for example using ravel().\n",
      "  estimator.fit(X_train, y_train, **fit_params)\n",
      "/Users/amandeepkaur/opt/anaconda3/lib/python3.8/site-packages/sklearn/model_selection/_validation.py:593: DataConversionWarning: A column-vector y was passed when a 1d array was expected. Please change the shape of y to (n_samples,), for example using ravel().\n",
      "  estimator.fit(X_train, y_train, **fit_params)\n",
      "/Users/amandeepkaur/opt/anaconda3/lib/python3.8/site-packages/sklearn/model_selection/_validation.py:593: DataConversionWarning: A column-vector y was passed when a 1d array was expected. Please change the shape of y to (n_samples,), for example using ravel().\n",
      "  estimator.fit(X_train, y_train, **fit_params)\n",
      "/Users/amandeepkaur/opt/anaconda3/lib/python3.8/site-packages/sklearn/model_selection/_validation.py:593: DataConversionWarning: A column-vector y was passed when a 1d array was expected. Please change the shape of y to (n_samples,), for example using ravel().\n",
      "  estimator.fit(X_train, y_train, **fit_params)\n",
      "/Users/amandeepkaur/opt/anaconda3/lib/python3.8/site-packages/sklearn/model_selection/_validation.py:593: DataConversionWarning: A column-vector y was passed when a 1d array was expected. Please change the shape of y to (n_samples,), for example using ravel().\n",
      "  estimator.fit(X_train, y_train, **fit_params)\n",
      "/Users/amandeepkaur/opt/anaconda3/lib/python3.8/site-packages/sklearn/model_selection/_validation.py:593: DataConversionWarning: A column-vector y was passed when a 1d array was expected. Please change the shape of y to (n_samples,), for example using ravel().\n",
      "  estimator.fit(X_train, y_train, **fit_params)\n",
      "/Users/amandeepkaur/opt/anaconda3/lib/python3.8/site-packages/sklearn/model_selection/_validation.py:593: DataConversionWarning: A column-vector y was passed when a 1d array was expected. Please change the shape of y to (n_samples,), for example using ravel().\n",
      "  estimator.fit(X_train, y_train, **fit_params)\n",
      "/Users/amandeepkaur/opt/anaconda3/lib/python3.8/site-packages/sklearn/model_selection/_validation.py:593: DataConversionWarning: A column-vector y was passed when a 1d array was expected. Please change the shape of y to (n_samples,), for example using ravel().\n",
      "  estimator.fit(X_train, y_train, **fit_params)\n",
      "/Users/amandeepkaur/opt/anaconda3/lib/python3.8/site-packages/sklearn/model_selection/_validation.py:593: DataConversionWarning: A column-vector y was passed when a 1d array was expected. Please change the shape of y to (n_samples,), for example using ravel().\n",
      "  estimator.fit(X_train, y_train, **fit_params)\n",
      "/Users/amandeepkaur/opt/anaconda3/lib/python3.8/site-packages/sklearn/model_selection/_validation.py:593: DataConversionWarning: A column-vector y was passed when a 1d array was expected. Please change the shape of y to (n_samples,), for example using ravel().\n",
      "  estimator.fit(X_train, y_train, **fit_params)\n",
      "/Users/amandeepkaur/opt/anaconda3/lib/python3.8/site-packages/sklearn/model_selection/_validation.py:593: DataConversionWarning: A column-vector y was passed when a 1d array was expected. Please change the shape of y to (n_samples,), for example using ravel().\n",
      "  estimator.fit(X_train, y_train, **fit_params)\n",
      "/Users/amandeepkaur/opt/anaconda3/lib/python3.8/site-packages/sklearn/model_selection/_validation.py:593: DataConversionWarning: A column-vector y was passed when a 1d array was expected. Please change the shape of y to (n_samples,), for example using ravel().\n",
      "  estimator.fit(X_train, y_train, **fit_params)\n",
      "/Users/amandeepkaur/opt/anaconda3/lib/python3.8/site-packages/sklearn/model_selection/_validation.py:593: DataConversionWarning: A column-vector y was passed when a 1d array was expected. Please change the shape of y to (n_samples,), for example using ravel().\n",
      "  estimator.fit(X_train, y_train, **fit_params)\n",
      "/Users/amandeepkaur/opt/anaconda3/lib/python3.8/site-packages/sklearn/model_selection/_validation.py:593: DataConversionWarning: A column-vector y was passed when a 1d array was expected. Please change the shape of y to (n_samples,), for example using ravel().\n",
      "  estimator.fit(X_train, y_train, **fit_params)\n",
      "/Users/amandeepkaur/opt/anaconda3/lib/python3.8/site-packages/sklearn/model_selection/_validation.py:593: DataConversionWarning: A column-vector y was passed when a 1d array was expected. Please change the shape of y to (n_samples,), for example using ravel().\n",
      "  estimator.fit(X_train, y_train, **fit_params)\n",
      "/Users/amandeepkaur/opt/anaconda3/lib/python3.8/site-packages/sklearn/model_selection/_validation.py:593: DataConversionWarning: A column-vector y was passed when a 1d array was expected. Please change the shape of y to (n_samples,), for example using ravel().\n",
      "  estimator.fit(X_train, y_train, **fit_params)\n",
      "/Users/amandeepkaur/opt/anaconda3/lib/python3.8/site-packages/sklearn/model_selection/_validation.py:593: DataConversionWarning: A column-vector y was passed when a 1d array was expected. Please change the shape of y to (n_samples,), for example using ravel().\n",
      "  estimator.fit(X_train, y_train, **fit_params)\n",
      "/Users/amandeepkaur/opt/anaconda3/lib/python3.8/site-packages/sklearn/model_selection/_validation.py:593: DataConversionWarning: A column-vector y was passed when a 1d array was expected. Please change the shape of y to (n_samples,), for example using ravel().\n",
      "  estimator.fit(X_train, y_train, **fit_params)\n",
      "/Users/amandeepkaur/opt/anaconda3/lib/python3.8/site-packages/sklearn/model_selection/_validation.py:593: DataConversionWarning: A column-vector y was passed when a 1d array was expected. Please change the shape of y to (n_samples,), for example using ravel().\n",
      "  estimator.fit(X_train, y_train, **fit_params)\n",
      "/Users/amandeepkaur/opt/anaconda3/lib/python3.8/site-packages/sklearn/model_selection/_validation.py:593: DataConversionWarning: A column-vector y was passed when a 1d array was expected. Please change the shape of y to (n_samples,), for example using ravel().\n",
      "  estimator.fit(X_train, y_train, **fit_params)\n",
      "/Users/amandeepkaur/opt/anaconda3/lib/python3.8/site-packages/sklearn/model_selection/_validation.py:593: DataConversionWarning: A column-vector y was passed when a 1d array was expected. Please change the shape of y to (n_samples,), for example using ravel().\n",
      "  estimator.fit(X_train, y_train, **fit_params)\n",
      "/Users/amandeepkaur/opt/anaconda3/lib/python3.8/site-packages/sklearn/model_selection/_validation.py:593: DataConversionWarning: A column-vector y was passed when a 1d array was expected. Please change the shape of y to (n_samples,), for example using ravel().\n",
      "  estimator.fit(X_train, y_train, **fit_params)\n"
     ]
    },
    {
     "name": "stderr",
     "output_type": "stream",
     "text": [
      "/Users/amandeepkaur/opt/anaconda3/lib/python3.8/site-packages/sklearn/model_selection/_validation.py:593: DataConversionWarning: A column-vector y was passed when a 1d array was expected. Please change the shape of y to (n_samples,), for example using ravel().\n",
      "  estimator.fit(X_train, y_train, **fit_params)\n",
      "/Users/amandeepkaur/opt/anaconda3/lib/python3.8/site-packages/sklearn/model_selection/_validation.py:593: DataConversionWarning: A column-vector y was passed when a 1d array was expected. Please change the shape of y to (n_samples,), for example using ravel().\n",
      "  estimator.fit(X_train, y_train, **fit_params)\n",
      "/Users/amandeepkaur/opt/anaconda3/lib/python3.8/site-packages/sklearn/model_selection/_validation.py:593: DataConversionWarning: A column-vector y was passed when a 1d array was expected. Please change the shape of y to (n_samples,), for example using ravel().\n",
      "  estimator.fit(X_train, y_train, **fit_params)\n",
      "/Users/amandeepkaur/opt/anaconda3/lib/python3.8/site-packages/sklearn/model_selection/_validation.py:593: DataConversionWarning: A column-vector y was passed when a 1d array was expected. Please change the shape of y to (n_samples,), for example using ravel().\n",
      "  estimator.fit(X_train, y_train, **fit_params)\n",
      "/Users/amandeepkaur/opt/anaconda3/lib/python3.8/site-packages/sklearn/model_selection/_validation.py:593: DataConversionWarning: A column-vector y was passed when a 1d array was expected. Please change the shape of y to (n_samples,), for example using ravel().\n",
      "  estimator.fit(X_train, y_train, **fit_params)\n",
      "/Users/amandeepkaur/opt/anaconda3/lib/python3.8/site-packages/sklearn/model_selection/_validation.py:593: DataConversionWarning: A column-vector y was passed when a 1d array was expected. Please change the shape of y to (n_samples,), for example using ravel().\n",
      "  estimator.fit(X_train, y_train, **fit_params)\n",
      "/Users/amandeepkaur/opt/anaconda3/lib/python3.8/site-packages/sklearn/model_selection/_validation.py:593: DataConversionWarning: A column-vector y was passed when a 1d array was expected. Please change the shape of y to (n_samples,), for example using ravel().\n",
      "  estimator.fit(X_train, y_train, **fit_params)\n",
      "/Users/amandeepkaur/opt/anaconda3/lib/python3.8/site-packages/sklearn/model_selection/_validation.py:593: DataConversionWarning: A column-vector y was passed when a 1d array was expected. Please change the shape of y to (n_samples,), for example using ravel().\n",
      "  estimator.fit(X_train, y_train, **fit_params)\n",
      "/Users/amandeepkaur/opt/anaconda3/lib/python3.8/site-packages/sklearn/model_selection/_validation.py:593: DataConversionWarning: A column-vector y was passed when a 1d array was expected. Please change the shape of y to (n_samples,), for example using ravel().\n",
      "  estimator.fit(X_train, y_train, **fit_params)\n",
      "/Users/amandeepkaur/opt/anaconda3/lib/python3.8/site-packages/sklearn/model_selection/_validation.py:593: DataConversionWarning: A column-vector y was passed when a 1d array was expected. Please change the shape of y to (n_samples,), for example using ravel().\n",
      "  estimator.fit(X_train, y_train, **fit_params)\n",
      "/Users/amandeepkaur/opt/anaconda3/lib/python3.8/site-packages/sklearn/model_selection/_validation.py:593: DataConversionWarning: A column-vector y was passed when a 1d array was expected. Please change the shape of y to (n_samples,), for example using ravel().\n",
      "  estimator.fit(X_train, y_train, **fit_params)\n",
      "/Users/amandeepkaur/opt/anaconda3/lib/python3.8/site-packages/sklearn/model_selection/_validation.py:593: DataConversionWarning: A column-vector y was passed when a 1d array was expected. Please change the shape of y to (n_samples,), for example using ravel().\n",
      "  estimator.fit(X_train, y_train, **fit_params)\n",
      "/Users/amandeepkaur/opt/anaconda3/lib/python3.8/site-packages/sklearn/model_selection/_validation.py:593: DataConversionWarning: A column-vector y was passed when a 1d array was expected. Please change the shape of y to (n_samples,), for example using ravel().\n",
      "  estimator.fit(X_train, y_train, **fit_params)\n",
      "/Users/amandeepkaur/opt/anaconda3/lib/python3.8/site-packages/sklearn/model_selection/_validation.py:593: DataConversionWarning: A column-vector y was passed when a 1d array was expected. Please change the shape of y to (n_samples,), for example using ravel().\n",
      "  estimator.fit(X_train, y_train, **fit_params)\n",
      "/Users/amandeepkaur/opt/anaconda3/lib/python3.8/site-packages/sklearn/model_selection/_validation.py:593: DataConversionWarning: A column-vector y was passed when a 1d array was expected. Please change the shape of y to (n_samples,), for example using ravel().\n",
      "  estimator.fit(X_train, y_train, **fit_params)\n",
      "/Users/amandeepkaur/opt/anaconda3/lib/python3.8/site-packages/sklearn/model_selection/_validation.py:593: DataConversionWarning: A column-vector y was passed when a 1d array was expected. Please change the shape of y to (n_samples,), for example using ravel().\n",
      "  estimator.fit(X_train, y_train, **fit_params)\n",
      "/Users/amandeepkaur/opt/anaconda3/lib/python3.8/site-packages/sklearn/model_selection/_validation.py:593: DataConversionWarning: A column-vector y was passed when a 1d array was expected. Please change the shape of y to (n_samples,), for example using ravel().\n",
      "  estimator.fit(X_train, y_train, **fit_params)\n",
      "/Users/amandeepkaur/opt/anaconda3/lib/python3.8/site-packages/sklearn/model_selection/_validation.py:593: DataConversionWarning: A column-vector y was passed when a 1d array was expected. Please change the shape of y to (n_samples,), for example using ravel().\n",
      "  estimator.fit(X_train, y_train, **fit_params)\n",
      "/Users/amandeepkaur/opt/anaconda3/lib/python3.8/site-packages/sklearn/model_selection/_validation.py:593: DataConversionWarning: A column-vector y was passed when a 1d array was expected. Please change the shape of y to (n_samples,), for example using ravel().\n",
      "  estimator.fit(X_train, y_train, **fit_params)\n",
      "/Users/amandeepkaur/opt/anaconda3/lib/python3.8/site-packages/sklearn/model_selection/_validation.py:593: DataConversionWarning: A column-vector y was passed when a 1d array was expected. Please change the shape of y to (n_samples,), for example using ravel().\n",
      "  estimator.fit(X_train, y_train, **fit_params)\n",
      "/Users/amandeepkaur/opt/anaconda3/lib/python3.8/site-packages/sklearn/model_selection/_validation.py:593: DataConversionWarning: A column-vector y was passed when a 1d array was expected. Please change the shape of y to (n_samples,), for example using ravel().\n",
      "  estimator.fit(X_train, y_train, **fit_params)\n",
      "/Users/amandeepkaur/opt/anaconda3/lib/python3.8/site-packages/sklearn/model_selection/_validation.py:593: DataConversionWarning: A column-vector y was passed when a 1d array was expected. Please change the shape of y to (n_samples,), for example using ravel().\n",
      "  estimator.fit(X_train, y_train, **fit_params)\n",
      "/Users/amandeepkaur/opt/anaconda3/lib/python3.8/site-packages/sklearn/model_selection/_validation.py:593: DataConversionWarning: A column-vector y was passed when a 1d array was expected. Please change the shape of y to (n_samples,), for example using ravel().\n",
      "  estimator.fit(X_train, y_train, **fit_params)\n",
      "/Users/amandeepkaur/opt/anaconda3/lib/python3.8/site-packages/sklearn/model_selection/_validation.py:593: DataConversionWarning: A column-vector y was passed when a 1d array was expected. Please change the shape of y to (n_samples,), for example using ravel().\n",
      "  estimator.fit(X_train, y_train, **fit_params)\n",
      "/Users/amandeepkaur/opt/anaconda3/lib/python3.8/site-packages/sklearn/model_selection/_validation.py:593: DataConversionWarning: A column-vector y was passed when a 1d array was expected. Please change the shape of y to (n_samples,), for example using ravel().\n",
      "  estimator.fit(X_train, y_train, **fit_params)\n",
      "/Users/amandeepkaur/opt/anaconda3/lib/python3.8/site-packages/sklearn/model_selection/_validation.py:593: DataConversionWarning: A column-vector y was passed when a 1d array was expected. Please change the shape of y to (n_samples,), for example using ravel().\n",
      "  estimator.fit(X_train, y_train, **fit_params)\n",
      "/Users/amandeepkaur/opt/anaconda3/lib/python3.8/site-packages/sklearn/model_selection/_validation.py:593: DataConversionWarning: A column-vector y was passed when a 1d array was expected. Please change the shape of y to (n_samples,), for example using ravel().\n",
      "  estimator.fit(X_train, y_train, **fit_params)\n",
      "/Users/amandeepkaur/opt/anaconda3/lib/python3.8/site-packages/sklearn/model_selection/_validation.py:593: DataConversionWarning: A column-vector y was passed when a 1d array was expected. Please change the shape of y to (n_samples,), for example using ravel().\n",
      "  estimator.fit(X_train, y_train, **fit_params)\n",
      "/Users/amandeepkaur/opt/anaconda3/lib/python3.8/site-packages/sklearn/model_selection/_validation.py:593: DataConversionWarning: A column-vector y was passed when a 1d array was expected. Please change the shape of y to (n_samples,), for example using ravel().\n",
      "  estimator.fit(X_train, y_train, **fit_params)\n",
      "/Users/amandeepkaur/opt/anaconda3/lib/python3.8/site-packages/sklearn/model_selection/_validation.py:593: DataConversionWarning: A column-vector y was passed when a 1d array was expected. Please change the shape of y to (n_samples,), for example using ravel().\n",
      "  estimator.fit(X_train, y_train, **fit_params)\n",
      "/Users/amandeepkaur/opt/anaconda3/lib/python3.8/site-packages/sklearn/model_selection/_validation.py:593: DataConversionWarning: A column-vector y was passed when a 1d array was expected. Please change the shape of y to (n_samples,), for example using ravel().\n",
      "  estimator.fit(X_train, y_train, **fit_params)\n",
      "/Users/amandeepkaur/opt/anaconda3/lib/python3.8/site-packages/sklearn/model_selection/_validation.py:593: DataConversionWarning: A column-vector y was passed when a 1d array was expected. Please change the shape of y to (n_samples,), for example using ravel().\n",
      "  estimator.fit(X_train, y_train, **fit_params)\n",
      "/Users/amandeepkaur/opt/anaconda3/lib/python3.8/site-packages/sklearn/model_selection/_validation.py:593: DataConversionWarning: A column-vector y was passed when a 1d array was expected. Please change the shape of y to (n_samples,), for example using ravel().\n",
      "  estimator.fit(X_train, y_train, **fit_params)\n",
      "/Users/amandeepkaur/opt/anaconda3/lib/python3.8/site-packages/sklearn/model_selection/_validation.py:593: DataConversionWarning: A column-vector y was passed when a 1d array was expected. Please change the shape of y to (n_samples,), for example using ravel().\n",
      "  estimator.fit(X_train, y_train, **fit_params)\n",
      "/Users/amandeepkaur/opt/anaconda3/lib/python3.8/site-packages/sklearn/model_selection/_validation.py:593: DataConversionWarning: A column-vector y was passed when a 1d array was expected. Please change the shape of y to (n_samples,), for example using ravel().\n",
      "  estimator.fit(X_train, y_train, **fit_params)\n",
      "/Users/amandeepkaur/opt/anaconda3/lib/python3.8/site-packages/sklearn/model_selection/_validation.py:593: DataConversionWarning: A column-vector y was passed when a 1d array was expected. Please change the shape of y to (n_samples,), for example using ravel().\n",
      "  estimator.fit(X_train, y_train, **fit_params)\n"
     ]
    },
    {
     "name": "stderr",
     "output_type": "stream",
     "text": [
      "/Users/amandeepkaur/opt/anaconda3/lib/python3.8/site-packages/sklearn/model_selection/_validation.py:593: DataConversionWarning: A column-vector y was passed when a 1d array was expected. Please change the shape of y to (n_samples,), for example using ravel().\n",
      "  estimator.fit(X_train, y_train, **fit_params)\n",
      "/Users/amandeepkaur/opt/anaconda3/lib/python3.8/site-packages/sklearn/model_selection/_validation.py:593: DataConversionWarning: A column-vector y was passed when a 1d array was expected. Please change the shape of y to (n_samples,), for example using ravel().\n",
      "  estimator.fit(X_train, y_train, **fit_params)\n",
      "/Users/amandeepkaur/opt/anaconda3/lib/python3.8/site-packages/sklearn/model_selection/_validation.py:593: DataConversionWarning: A column-vector y was passed when a 1d array was expected. Please change the shape of y to (n_samples,), for example using ravel().\n",
      "  estimator.fit(X_train, y_train, **fit_params)\n",
      "/Users/amandeepkaur/opt/anaconda3/lib/python3.8/site-packages/sklearn/model_selection/_validation.py:593: DataConversionWarning: A column-vector y was passed when a 1d array was expected. Please change the shape of y to (n_samples,), for example using ravel().\n",
      "  estimator.fit(X_train, y_train, **fit_params)\n",
      "/Users/amandeepkaur/opt/anaconda3/lib/python3.8/site-packages/sklearn/model_selection/_validation.py:593: DataConversionWarning: A column-vector y was passed when a 1d array was expected. Please change the shape of y to (n_samples,), for example using ravel().\n",
      "  estimator.fit(X_train, y_train, **fit_params)\n",
      "/Users/amandeepkaur/opt/anaconda3/lib/python3.8/site-packages/sklearn/model_selection/_validation.py:593: DataConversionWarning: A column-vector y was passed when a 1d array was expected. Please change the shape of y to (n_samples,), for example using ravel().\n",
      "  estimator.fit(X_train, y_train, **fit_params)\n",
      "/Users/amandeepkaur/opt/anaconda3/lib/python3.8/site-packages/sklearn/model_selection/_validation.py:593: DataConversionWarning: A column-vector y was passed when a 1d array was expected. Please change the shape of y to (n_samples,), for example using ravel().\n",
      "  estimator.fit(X_train, y_train, **fit_params)\n",
      "/Users/amandeepkaur/opt/anaconda3/lib/python3.8/site-packages/sklearn/model_selection/_validation.py:593: DataConversionWarning: A column-vector y was passed when a 1d array was expected. Please change the shape of y to (n_samples,), for example using ravel().\n",
      "  estimator.fit(X_train, y_train, **fit_params)\n",
      "/Users/amandeepkaur/opt/anaconda3/lib/python3.8/site-packages/sklearn/model_selection/_validation.py:593: DataConversionWarning: A column-vector y was passed when a 1d array was expected. Please change the shape of y to (n_samples,), for example using ravel().\n",
      "  estimator.fit(X_train, y_train, **fit_params)\n",
      "/Users/amandeepkaur/opt/anaconda3/lib/python3.8/site-packages/sklearn/model_selection/_validation.py:593: DataConversionWarning: A column-vector y was passed when a 1d array was expected. Please change the shape of y to (n_samples,), for example using ravel().\n",
      "  estimator.fit(X_train, y_train, **fit_params)\n",
      "/Users/amandeepkaur/opt/anaconda3/lib/python3.8/site-packages/sklearn/model_selection/_validation.py:593: DataConversionWarning: A column-vector y was passed when a 1d array was expected. Please change the shape of y to (n_samples,), for example using ravel().\n",
      "  estimator.fit(X_train, y_train, **fit_params)\n",
      "/Users/amandeepkaur/opt/anaconda3/lib/python3.8/site-packages/sklearn/model_selection/_validation.py:593: DataConversionWarning: A column-vector y was passed when a 1d array was expected. Please change the shape of y to (n_samples,), for example using ravel().\n",
      "  estimator.fit(X_train, y_train, **fit_params)\n",
      "/Users/amandeepkaur/opt/anaconda3/lib/python3.8/site-packages/sklearn/model_selection/_validation.py:593: DataConversionWarning: A column-vector y was passed when a 1d array was expected. Please change the shape of y to (n_samples,), for example using ravel().\n",
      "  estimator.fit(X_train, y_train, **fit_params)\n",
      "/Users/amandeepkaur/opt/anaconda3/lib/python3.8/site-packages/sklearn/model_selection/_validation.py:593: DataConversionWarning: A column-vector y was passed when a 1d array was expected. Please change the shape of y to (n_samples,), for example using ravel().\n",
      "  estimator.fit(X_train, y_train, **fit_params)\n",
      "/Users/amandeepkaur/opt/anaconda3/lib/python3.8/site-packages/sklearn/model_selection/_validation.py:593: DataConversionWarning: A column-vector y was passed when a 1d array was expected. Please change the shape of y to (n_samples,), for example using ravel().\n",
      "  estimator.fit(X_train, y_train, **fit_params)\n",
      "/Users/amandeepkaur/opt/anaconda3/lib/python3.8/site-packages/sklearn/model_selection/_validation.py:593: DataConversionWarning: A column-vector y was passed when a 1d array was expected. Please change the shape of y to (n_samples,), for example using ravel().\n",
      "  estimator.fit(X_train, y_train, **fit_params)\n",
      "/Users/amandeepkaur/opt/anaconda3/lib/python3.8/site-packages/sklearn/model_selection/_validation.py:593: DataConversionWarning: A column-vector y was passed when a 1d array was expected. Please change the shape of y to (n_samples,), for example using ravel().\n",
      "  estimator.fit(X_train, y_train, **fit_params)\n",
      "/Users/amandeepkaur/opt/anaconda3/lib/python3.8/site-packages/sklearn/model_selection/_validation.py:593: DataConversionWarning: A column-vector y was passed when a 1d array was expected. Please change the shape of y to (n_samples,), for example using ravel().\n",
      "  estimator.fit(X_train, y_train, **fit_params)\n",
      "/Users/amandeepkaur/opt/anaconda3/lib/python3.8/site-packages/sklearn/model_selection/_validation.py:593: DataConversionWarning: A column-vector y was passed when a 1d array was expected. Please change the shape of y to (n_samples,), for example using ravel().\n",
      "  estimator.fit(X_train, y_train, **fit_params)\n",
      "/Users/amandeepkaur/opt/anaconda3/lib/python3.8/site-packages/sklearn/model_selection/_validation.py:593: DataConversionWarning: A column-vector y was passed when a 1d array was expected. Please change the shape of y to (n_samples,), for example using ravel().\n",
      "  estimator.fit(X_train, y_train, **fit_params)\n",
      "/Users/amandeepkaur/opt/anaconda3/lib/python3.8/site-packages/sklearn/model_selection/_validation.py:593: DataConversionWarning: A column-vector y was passed when a 1d array was expected. Please change the shape of y to (n_samples,), for example using ravel().\n",
      "  estimator.fit(X_train, y_train, **fit_params)\n",
      "/Users/amandeepkaur/opt/anaconda3/lib/python3.8/site-packages/sklearn/model_selection/_validation.py:593: DataConversionWarning: A column-vector y was passed when a 1d array was expected. Please change the shape of y to (n_samples,), for example using ravel().\n",
      "  estimator.fit(X_train, y_train, **fit_params)\n",
      "/Users/amandeepkaur/opt/anaconda3/lib/python3.8/site-packages/sklearn/model_selection/_validation.py:593: DataConversionWarning: A column-vector y was passed when a 1d array was expected. Please change the shape of y to (n_samples,), for example using ravel().\n",
      "  estimator.fit(X_train, y_train, **fit_params)\n",
      "/Users/amandeepkaur/opt/anaconda3/lib/python3.8/site-packages/sklearn/model_selection/_validation.py:593: DataConversionWarning: A column-vector y was passed when a 1d array was expected. Please change the shape of y to (n_samples,), for example using ravel().\n",
      "  estimator.fit(X_train, y_train, **fit_params)\n",
      "/Users/amandeepkaur/opt/anaconda3/lib/python3.8/site-packages/sklearn/model_selection/_validation.py:593: DataConversionWarning: A column-vector y was passed when a 1d array was expected. Please change the shape of y to (n_samples,), for example using ravel().\n",
      "  estimator.fit(X_train, y_train, **fit_params)\n",
      "/Users/amandeepkaur/opt/anaconda3/lib/python3.8/site-packages/sklearn/model_selection/_validation.py:593: DataConversionWarning: A column-vector y was passed when a 1d array was expected. Please change the shape of y to (n_samples,), for example using ravel().\n",
      "  estimator.fit(X_train, y_train, **fit_params)\n",
      "/Users/amandeepkaur/opt/anaconda3/lib/python3.8/site-packages/sklearn/model_selection/_validation.py:593: DataConversionWarning: A column-vector y was passed when a 1d array was expected. Please change the shape of y to (n_samples,), for example using ravel().\n",
      "  estimator.fit(X_train, y_train, **fit_params)\n",
      "/Users/amandeepkaur/opt/anaconda3/lib/python3.8/site-packages/sklearn/model_selection/_validation.py:593: DataConversionWarning: A column-vector y was passed when a 1d array was expected. Please change the shape of y to (n_samples,), for example using ravel().\n",
      "  estimator.fit(X_train, y_train, **fit_params)\n",
      "/Users/amandeepkaur/opt/anaconda3/lib/python3.8/site-packages/sklearn/model_selection/_validation.py:593: DataConversionWarning: A column-vector y was passed when a 1d array was expected. Please change the shape of y to (n_samples,), for example using ravel().\n",
      "  estimator.fit(X_train, y_train, **fit_params)\n",
      "/Users/amandeepkaur/opt/anaconda3/lib/python3.8/site-packages/sklearn/model_selection/_validation.py:593: DataConversionWarning: A column-vector y was passed when a 1d array was expected. Please change the shape of y to (n_samples,), for example using ravel().\n",
      "  estimator.fit(X_train, y_train, **fit_params)\n"
     ]
    },
    {
     "name": "stderr",
     "output_type": "stream",
     "text": [
      "/Users/amandeepkaur/opt/anaconda3/lib/python3.8/site-packages/sklearn/model_selection/_validation.py:593: DataConversionWarning: A column-vector y was passed when a 1d array was expected. Please change the shape of y to (n_samples,), for example using ravel().\n",
      "  estimator.fit(X_train, y_train, **fit_params)\n",
      "/Users/amandeepkaur/opt/anaconda3/lib/python3.8/site-packages/sklearn/model_selection/_validation.py:593: DataConversionWarning: A column-vector y was passed when a 1d array was expected. Please change the shape of y to (n_samples,), for example using ravel().\n",
      "  estimator.fit(X_train, y_train, **fit_params)\n",
      "/Users/amandeepkaur/opt/anaconda3/lib/python3.8/site-packages/sklearn/model_selection/_validation.py:593: DataConversionWarning: A column-vector y was passed when a 1d array was expected. Please change the shape of y to (n_samples,), for example using ravel().\n",
      "  estimator.fit(X_train, y_train, **fit_params)\n",
      "/Users/amandeepkaur/opt/anaconda3/lib/python3.8/site-packages/sklearn/model_selection/_validation.py:593: DataConversionWarning: A column-vector y was passed when a 1d array was expected. Please change the shape of y to (n_samples,), for example using ravel().\n",
      "  estimator.fit(X_train, y_train, **fit_params)\n",
      "/Users/amandeepkaur/opt/anaconda3/lib/python3.8/site-packages/sklearn/model_selection/_validation.py:593: DataConversionWarning: A column-vector y was passed when a 1d array was expected. Please change the shape of y to (n_samples,), for example using ravel().\n",
      "  estimator.fit(X_train, y_train, **fit_params)\n",
      "/Users/amandeepkaur/opt/anaconda3/lib/python3.8/site-packages/sklearn/model_selection/_validation.py:593: DataConversionWarning: A column-vector y was passed when a 1d array was expected. Please change the shape of y to (n_samples,), for example using ravel().\n",
      "  estimator.fit(X_train, y_train, **fit_params)\n",
      "/Users/amandeepkaur/opt/anaconda3/lib/python3.8/site-packages/sklearn/model_selection/_validation.py:593: DataConversionWarning: A column-vector y was passed when a 1d array was expected. Please change the shape of y to (n_samples,), for example using ravel().\n",
      "  estimator.fit(X_train, y_train, **fit_params)\n",
      "/Users/amandeepkaur/opt/anaconda3/lib/python3.8/site-packages/sklearn/model_selection/_validation.py:593: DataConversionWarning: A column-vector y was passed when a 1d array was expected. Please change the shape of y to (n_samples,), for example using ravel().\n",
      "  estimator.fit(X_train, y_train, **fit_params)\n",
      "/Users/amandeepkaur/opt/anaconda3/lib/python3.8/site-packages/sklearn/model_selection/_validation.py:593: DataConversionWarning: A column-vector y was passed when a 1d array was expected. Please change the shape of y to (n_samples,), for example using ravel().\n",
      "  estimator.fit(X_train, y_train, **fit_params)\n",
      "/Users/amandeepkaur/opt/anaconda3/lib/python3.8/site-packages/sklearn/model_selection/_validation.py:593: DataConversionWarning: A column-vector y was passed when a 1d array was expected. Please change the shape of y to (n_samples,), for example using ravel().\n",
      "  estimator.fit(X_train, y_train, **fit_params)\n",
      "/Users/amandeepkaur/opt/anaconda3/lib/python3.8/site-packages/sklearn/model_selection/_validation.py:593: DataConversionWarning: A column-vector y was passed when a 1d array was expected. Please change the shape of y to (n_samples,), for example using ravel().\n",
      "  estimator.fit(X_train, y_train, **fit_params)\n",
      "/Users/amandeepkaur/opt/anaconda3/lib/python3.8/site-packages/sklearn/model_selection/_validation.py:593: DataConversionWarning: A column-vector y was passed when a 1d array was expected. Please change the shape of y to (n_samples,), for example using ravel().\n",
      "  estimator.fit(X_train, y_train, **fit_params)\n",
      "/Users/amandeepkaur/opt/anaconda3/lib/python3.8/site-packages/sklearn/model_selection/_validation.py:593: DataConversionWarning: A column-vector y was passed when a 1d array was expected. Please change the shape of y to (n_samples,), for example using ravel().\n",
      "  estimator.fit(X_train, y_train, **fit_params)\n",
      "/Users/amandeepkaur/opt/anaconda3/lib/python3.8/site-packages/sklearn/model_selection/_validation.py:593: DataConversionWarning: A column-vector y was passed when a 1d array was expected. Please change the shape of y to (n_samples,), for example using ravel().\n",
      "  estimator.fit(X_train, y_train, **fit_params)\n",
      "/Users/amandeepkaur/opt/anaconda3/lib/python3.8/site-packages/sklearn/model_selection/_validation.py:593: DataConversionWarning: A column-vector y was passed when a 1d array was expected. Please change the shape of y to (n_samples,), for example using ravel().\n",
      "  estimator.fit(X_train, y_train, **fit_params)\n",
      "/Users/amandeepkaur/opt/anaconda3/lib/python3.8/site-packages/sklearn/model_selection/_validation.py:593: DataConversionWarning: A column-vector y was passed when a 1d array was expected. Please change the shape of y to (n_samples,), for example using ravel().\n",
      "  estimator.fit(X_train, y_train, **fit_params)\n",
      "/Users/amandeepkaur/opt/anaconda3/lib/python3.8/site-packages/sklearn/model_selection/_validation.py:593: DataConversionWarning: A column-vector y was passed when a 1d array was expected. Please change the shape of y to (n_samples,), for example using ravel().\n",
      "  estimator.fit(X_train, y_train, **fit_params)\n",
      "/Users/amandeepkaur/opt/anaconda3/lib/python3.8/site-packages/sklearn/model_selection/_validation.py:593: DataConversionWarning: A column-vector y was passed when a 1d array was expected. Please change the shape of y to (n_samples,), for example using ravel().\n",
      "  estimator.fit(X_train, y_train, **fit_params)\n",
      "/Users/amandeepkaur/opt/anaconda3/lib/python3.8/site-packages/sklearn/model_selection/_validation.py:593: DataConversionWarning: A column-vector y was passed when a 1d array was expected. Please change the shape of y to (n_samples,), for example using ravel().\n",
      "  estimator.fit(X_train, y_train, **fit_params)\n",
      "/Users/amandeepkaur/opt/anaconda3/lib/python3.8/site-packages/sklearn/model_selection/_validation.py:593: DataConversionWarning: A column-vector y was passed when a 1d array was expected. Please change the shape of y to (n_samples,), for example using ravel().\n",
      "  estimator.fit(X_train, y_train, **fit_params)\n",
      "/Users/amandeepkaur/opt/anaconda3/lib/python3.8/site-packages/sklearn/model_selection/_validation.py:593: DataConversionWarning: A column-vector y was passed when a 1d array was expected. Please change the shape of y to (n_samples,), for example using ravel().\n",
      "  estimator.fit(X_train, y_train, **fit_params)\n",
      "/Users/amandeepkaur/opt/anaconda3/lib/python3.8/site-packages/sklearn/model_selection/_validation.py:593: DataConversionWarning: A column-vector y was passed when a 1d array was expected. Please change the shape of y to (n_samples,), for example using ravel().\n",
      "  estimator.fit(X_train, y_train, **fit_params)\n",
      "/Users/amandeepkaur/opt/anaconda3/lib/python3.8/site-packages/sklearn/model_selection/_validation.py:593: DataConversionWarning: A column-vector y was passed when a 1d array was expected. Please change the shape of y to (n_samples,), for example using ravel().\n",
      "  estimator.fit(X_train, y_train, **fit_params)\n",
      "/Users/amandeepkaur/opt/anaconda3/lib/python3.8/site-packages/sklearn/model_selection/_validation.py:593: DataConversionWarning: A column-vector y was passed when a 1d array was expected. Please change the shape of y to (n_samples,), for example using ravel().\n",
      "  estimator.fit(X_train, y_train, **fit_params)\n",
      "/Users/amandeepkaur/opt/anaconda3/lib/python3.8/site-packages/sklearn/model_selection/_validation.py:593: DataConversionWarning: A column-vector y was passed when a 1d array was expected. Please change the shape of y to (n_samples,), for example using ravel().\n",
      "  estimator.fit(X_train, y_train, **fit_params)\n",
      "/Users/amandeepkaur/opt/anaconda3/lib/python3.8/site-packages/sklearn/model_selection/_search.py:880: DataConversionWarning: A column-vector y was passed when a 1d array was expected. Please change the shape of y to (n_samples,), for example using ravel().\n",
      "  self.best_estimator_.fit(X, y, **fit_params)\n"
     ]
    },
    {
     "data": {
      "text/plain": [
       "GridSearchCV(cv=3, estimator=RandomForestRegressor(random_state=1), n_jobs=1,\n",
       "             param_grid={'bootstrap': [True], 'max_depth': [5, 10, None],\n",
       "                         'max_features': ['auto', 'log2'],\n",
       "                         'n_estimators': [5, 6, 7, 8, 9, 10, 11, 12, 13, 15]},\n",
       "             return_train_score=True)"
      ]
     },
     "execution_count": 43,
     "metadata": {},
     "output_type": "execute_result"
    }
   ],
   "source": [
    "g_search.fit(X_train, y_train)"
   ]
  },
  {
   "cell_type": "code",
   "execution_count": 44,
   "id": "3e2079b2",
   "metadata": {},
   "outputs": [
    {
     "name": "stdout",
     "output_type": "stream",
     "text": [
      "{'bootstrap': True, 'max_depth': None, 'max_features': 'auto', 'n_estimators': 11}\n"
     ]
    }
   ],
   "source": [
    "print(g_search.best_params_)"
   ]
  },
  {
   "cell_type": "code",
   "execution_count": null,
   "id": "6271bc70",
   "metadata": {},
   "outputs": [],
   "source": []
  }
 ],
 "metadata": {
  "kernelspec": {
   "display_name": "Python 3 (ipykernel)",
   "language": "python",
   "name": "python3"
  },
  "language_info": {
   "codemirror_mode": {
    "name": "ipython",
    "version": 3
   },
   "file_extension": ".py",
   "mimetype": "text/x-python",
   "name": "python",
   "nbconvert_exporter": "python",
   "pygments_lexer": "ipython3",
   "version": "3.8.2"
  }
 },
 "nbformat": 4,
 "nbformat_minor": 5
}
