{
 "cells": [
  {
   "cell_type": "code",
   "execution_count": 1,
   "id": "d3be35d4",
   "metadata": {},
   "outputs": [
    {
     "data": {
      "text/plain": [
       "0    0.25\n",
       "1    0.50\n",
       "2    0.75\n",
       "3    1.00\n",
       "dtype: float64"
      ]
     },
     "execution_count": 1,
     "metadata": {},
     "output_type": "execute_result"
    }
   ],
   "source": [
    "import pandas as pd\n",
    "\n",
    "# create a pandas SEries\n",
    "series_a = pd.Series([0.25, 0.5, 0.75, 1.0])\n",
    "series_a"
   ]
  },
  {
   "cell_type": "code",
   "execution_count": 2,
   "id": "b1ae63b4",
   "metadata": {},
   "outputs": [
    {
     "data": {
      "text/plain": [
       "RangeIndex(start=0, stop=4, step=1)"
      ]
     },
     "execution_count": 2,
     "metadata": {},
     "output_type": "execute_result"
    }
   ],
   "source": [
    "series_a.index"
   ]
  },
  {
   "cell_type": "code",
   "execution_count": 3,
   "id": "dadb5ed8",
   "metadata": {},
   "outputs": [
    {
     "data": {
      "text/plain": [
       "array([0.25, 0.5 , 0.75, 1.  ])"
      ]
     },
     "execution_count": 3,
     "metadata": {},
     "output_type": "execute_result"
    }
   ],
   "source": [
    "series_a.values"
   ]
  },
  {
   "cell_type": "markdown",
   "id": "0456c08f",
   "metadata": {},
   "source": [
    "# Generating a pandas Series\n",
    "A series object can be generated from most python collections, and thus supports all common types in the data."
   ]
  },
  {
   "cell_type": "code",
   "execution_count": null,
   "id": "598f0b53",
   "metadata": {},
   "outputs": [],
   "source": []
  },
  {
   "cell_type": "code",
   "execution_count": 4,
   "id": "c24eff04",
   "metadata": {},
   "outputs": [
    {
     "data": {
      "text/plain": [
       "0      one\n",
       "1      two\n",
       "2    three\n",
       "dtype: object"
      ]
     },
     "execution_count": 4,
     "metadata": {},
     "output_type": "execute_result"
    }
   ],
   "source": [
    "# a lsit\n",
    "list_a = ['one', 'two', 'three']\n",
    "\n",
    "series_b = pd.Series(list_a)\n",
    "series_b"
   ]
  },
  {
   "cell_type": "code",
   "execution_count": 5,
   "id": "da18cf66",
   "metadata": {},
   "outputs": [
    {
     "data": {
      "text/plain": [
       "index_one        one\n",
       "index_two        two\n",
       "index_three    three\n",
       "dtype: object"
      ]
     },
     "execution_count": 5,
     "metadata": {},
     "output_type": "execute_result"
    }
   ],
   "source": [
    "# a list with indices\n",
    "\n",
    "list_a = ['one', 'two', 'three']\n",
    "list_b = ['index_one', 'index_two', 'index_three']\n",
    "\n",
    "series_c = pd.Series(data=list_a, index=list_b)\n",
    "series_c"
   ]
  },
  {
   "cell_type": "code",
   "execution_count": 6,
   "id": "259a4e7f",
   "metadata": {},
   "outputs": [
    {
     "data": {
      "text/plain": [
       "100    5\n",
       "200    5\n",
       "300    5\n",
       "dtype: int64"
      ]
     },
     "execution_count": 6,
     "metadata": {},
     "output_type": "execute_result"
    }
   ],
   "source": [
    "#creating a Series with same value\n",
    "\n",
    "pd.Series(5, index=[100, 200, 300])"
   ]
  },
  {
   "cell_type": "code",
   "execution_count": 7,
   "id": "8e40ce8c",
   "metadata": {},
   "outputs": [],
   "source": [
    "fruits = pd.Series([1, 0, 2, 2], index=['apples', 'oranges', 'bananas', 'lemons'])\n",
    "more_fruits = pd.Series([1, 0, 1, 5], index=['lemons', 'oranges', 'apples', 'bananas'])"
   ]
  },
  {
   "cell_type": "code",
   "execution_count": 8,
   "id": "04edf2d5",
   "metadata": {},
   "outputs": [
    {
     "data": {
      "text/plain": [
       "apples     1\n",
       "oranges    0\n",
       "bananas    2\n",
       "lemons     2\n",
       "dtype: int64"
      ]
     },
     "execution_count": 8,
     "metadata": {},
     "output_type": "execute_result"
    }
   ],
   "source": [
    "fruits"
   ]
  },
  {
   "cell_type": "code",
   "execution_count": 9,
   "id": "fc9507d5",
   "metadata": {},
   "outputs": [
    {
     "data": {
      "text/plain": [
       "lemons     1\n",
       "oranges    0\n",
       "apples     1\n",
       "bananas    5\n",
       "dtype: int64"
      ]
     },
     "execution_count": 9,
     "metadata": {},
     "output_type": "execute_result"
    }
   ],
   "source": [
    "more_fruits"
   ]
  },
  {
   "cell_type": "code",
   "execution_count": 10,
   "id": "af6dfb2d",
   "metadata": {},
   "outputs": [
    {
     "data": {
      "text/plain": [
       "apples     2\n",
       "bananas    7\n",
       "lemons     3\n",
       "oranges    0\n",
       "dtype: int64"
      ]
     },
     "execution_count": 10,
     "metadata": {},
     "output_type": "execute_result"
    }
   ],
   "source": [
    "fruits + more_fruits"
   ]
  },
  {
   "cell_type": "markdown",
   "id": "b82a8822",
   "metadata": {},
   "source": [
    "# More Examples"
   ]
  },
  {
   "cell_type": "code",
   "execution_count": null,
   "id": "650bb20b",
   "metadata": {},
   "outputs": [],
   "source": []
  },
  {
   "cell_type": "code",
   "execution_count": 11,
   "id": "3cc37a56",
   "metadata": {},
   "outputs": [],
   "source": [
    "berlin_year_to_population = {\n",
    "    '1917' : 1681916,\n",
    "    '1919' : 2098980,\n",
    "    '1921' : 3454252,\n",
    "    '1923' : 1324252,\n",
    "    '1925' : 2728722,\n",
    "    '1927' : 4325231,\n",
    "    '1929' : 3425212,\n",
    "    '1931' : 2325131,\n",
    "    '1933' : 2526212,\n",
    "    '1935' : 5262421,\n",
    "    '1937' : 3234142,\n",
    "    '1939' : 4678384,\n",
    "    '1941' : 6754362,\n",
    "    '1943' : 6987899\n",
    "}\n",
    "\n",
    "population = pd.Series(berlin_year_to_population)"
   ]
  },
  {
   "cell_type": "code",
   "execution_count": 12,
   "id": "d52f8125",
   "metadata": {},
   "outputs": [
    {
     "data": {
      "text/plain": [
       "1917    1681916\n",
       "1919    2098980\n",
       "1921    3454252\n",
       "1923    1324252\n",
       "1925    2728722\n",
       "dtype: int64"
      ]
     },
     "execution_count": 12,
     "metadata": {},
     "output_type": "execute_result"
    }
   ],
   "source": [
    "# show me first 5 rows\n",
    "# can also call head() with a parameter specifying the number of rows\n",
    "\n",
    "population.head()"
   ]
  },
  {
   "cell_type": "code",
   "execution_count": 13,
   "id": "f1451212",
   "metadata": {},
   "outputs": [
    {
     "data": {
      "text/plain": [
       "Text(0.5, 0, 'Year')"
      ]
     },
     "execution_count": 13,
     "metadata": {},
     "output_type": "execute_result"
    },
    {
     "data": {
      "image/png": "[encoded data removed]",
      "text/plain": [
       "<Figure size 864x288 with 1 Axes>"
      ]
     },
     "metadata": {
      "needs_background": "light"
     },
     "output_type": "display_data"
    }
   ],
   "source": [
    "%matplotlib inline\n",
    "import matplotlib.pyplot as plt\n",
    "plt.figure(figsize = [12,4])\n",
    "plt.plot(population)\n",
    "plt.ylabel(\"Population\")\n",
    "plt.xlabel(\"Year\")"
   ]
  },
  {
   "cell_type": "markdown",
   "id": "d86ae3b6",
   "metadata": {},
   "source": [
    "# Indexing a pandas Series"
   ]
  },
  {
   "cell_type": "code",
   "execution_count": 14,
   "id": "c299dd54",
   "metadata": {},
   "outputs": [
    {
     "data": {
      "text/plain": [
       "Year\n",
       "1917    1681916\n",
       "1919    2098980\n",
       "1921    3454252\n",
       "1923    1324252\n",
       "1925    2728722\n",
       "1927    4325231\n",
       "1929    3425212\n",
       "1931    2325131\n",
       "1933    2526212\n",
       "1935    5262421\n",
       "1937    3234142\n",
       "1939    4678384\n",
       "1941    6754362\n",
       "1943    6987899\n",
       "Name: Population, dtype: int64"
      ]
     },
     "execution_count": 14,
     "metadata": {},
     "output_type": "execute_result"
    }
   ],
   "source": [
    "population.name = 'Population'\n",
    "population.index.name = 'Year'\n",
    "# note that the indices are strings\n",
    "\n",
    "population"
   ]
  },
  {
   "cell_type": "code",
   "execution_count": 15,
   "id": "bf478aaa",
   "metadata": {},
   "outputs": [
    {
     "data": {
      "text/plain": [
       "3234142"
      ]
     },
     "execution_count": 15,
     "metadata": {},
     "output_type": "execute_result"
    }
   ],
   "source": [
    "population['1937']"
   ]
  },
  {
   "cell_type": "code",
   "execution_count": 16,
   "id": "5fed5b48",
   "metadata": {},
   "outputs": [
    {
     "data": {
      "text/plain": [
       "Year\n",
       "1919    2098980\n",
       "1925    2728722\n",
       "1931    2325131\n",
       "1941    6754362\n",
       "Name: Population, dtype: int64"
      ]
     },
     "execution_count": 16,
     "metadata": {},
     "output_type": "execute_result"
    }
   ],
   "source": [
    "population[['1919', '1925', '1931', '1941']]"
   ]
  },
  {
   "cell_type": "code",
   "execution_count": 17,
   "id": "0bb28114",
   "metadata": {},
   "outputs": [
    {
     "data": {
      "text/plain": [
       "Year\n",
       "1921    3454252\n",
       "1923    1324252\n",
       "1925    2728722\n",
       "1927    4325231\n",
       "1929    3425212\n",
       "1931    2325131\n",
       "1933    2526212\n",
       "1935    5262421\n",
       "Name: Population, dtype: int64"
      ]
     },
     "execution_count": 17,
     "metadata": {},
     "output_type": "execute_result"
    }
   ],
   "source": [
    "population['1921' :'1935']"
   ]
  },
  {
   "cell_type": "code",
   "execution_count": 18,
   "id": "b573c90a",
   "metadata": {},
   "outputs": [
    {
     "data": {
      "text/plain": [
       "Year\n",
       "1917    False\n",
       "1919    False\n",
       "1921    False\n",
       "1923    False\n",
       "1925    False\n",
       "1927     True\n",
       "1929    False\n",
       "1931    False\n",
       "1933    False\n",
       "1935     True\n",
       "1937    False\n",
       "1939     True\n",
       "1941     True\n",
       "1943     True\n",
       "Name: Population, dtype: bool"
      ]
     },
     "execution_count": 18,
     "metadata": {},
     "output_type": "execute_result"
    }
   ],
   "source": [
    "population > 4e6"
   ]
  },
  {
   "cell_type": "code",
   "execution_count": 19,
   "id": "645e72bc",
   "metadata": {},
   "outputs": [
    {
     "data": {
      "text/plain": [
       "Year\n",
       "1927    4325231\n",
       "1935    5262421\n",
       "1939    4678384\n",
       "1941    6754362\n",
       "1943    6987899\n",
       "Name: Population, dtype: int64"
      ]
     },
     "execution_count": 19,
     "metadata": {},
     "output_type": "execute_result"
    }
   ],
   "source": [
    "# filter Series by condition\n",
    "\n",
    "population[population > 4e6]"
   ]
  },
  {
   "cell_type": "code",
   "execution_count": 20,
   "id": "195ed2fe",
   "metadata": {},
   "outputs": [
    {
     "data": {
      "text/plain": [
       "Year\n",
       "1917                   1681916\n",
       "1919                   2098980\n",
       "1921                   3454252\n",
       "1923                   1324252\n",
       "1925                   2728722\n",
       "1927    more than four million\n",
       "1929                   3425212\n",
       "1931                   2325131\n",
       "1933                   2526212\n",
       "1935    more than four million\n",
       "1937                   3234142\n",
       "1939    more than four million\n",
       "1941    more than four million\n",
       "1943    more than four million\n",
       "Name: Population, dtype: object"
      ]
     },
     "execution_count": 20,
     "metadata": {},
     "output_type": "execute_result"
    }
   ],
   "source": [
    "population_ = population.copy()    # Series mutable; without using .copy() you change the original object\n",
    "population_[population_ > 4e6] = \"more than four million\"\n",
    "population_"
   ]
  },
  {
   "cell_type": "code",
   "execution_count": 21,
   "id": "7b5d3b80",
   "metadata": {},
   "outputs": [
    {
     "data": {
      "text/plain": [
       "Year\n",
       "1921    3454252\n",
       "Name: Population, dtype: int64"
      ]
     },
     "execution_count": 21,
     "metadata": {},
     "output_type": "execute_result"
    }
   ],
   "source": [
    "population[population == 3454252]"
   ]
  },
  {
   "cell_type": "code",
   "execution_count": 22,
   "id": "f5a0842a",
   "metadata": {},
   "outputs": [
    {
     "data": {
      "text/plain": [
       "Year\n",
       "1917    1681916\n",
       "1921    3454252\n",
       "Name: Population, dtype: int64"
      ]
     },
     "execution_count": 22,
     "metadata": {},
     "output_type": "execute_result"
    }
   ],
   "source": [
    "# more complex condtions\n",
    "\n",
    "population[(population== 3454252) | (population== 1681916)]"
   ]
  },
  {
   "cell_type": "markdown",
   "id": "405128ac",
   "metadata": {},
   "source": [
    "# Dictionary-like access"
   ]
  },
  {
   "cell_type": "code",
   "execution_count": 23,
   "id": "71e5a8d2",
   "metadata": {},
   "outputs": [
    {
     "data": {
      "text/plain": [
       "a    0.5\n",
       "b    1.0\n",
       "c    1.5\n",
       "d    2.0\n",
       "dtype: float64"
      ]
     },
     "execution_count": 23,
     "metadata": {},
     "output_type": "execute_result"
    }
   ],
   "source": [
    "data = pd.Series([0.5, 1, 1.5, 2], index=['a', 'b', 'c', 'd'])\n",
    "data"
   ]
  },
  {
   "cell_type": "code",
   "execution_count": 24,
   "id": "3f5d71ac",
   "metadata": {},
   "outputs": [
    {
     "data": {
      "text/plain": [
       "1.0"
      ]
     },
     "execution_count": 24,
     "metadata": {},
     "output_type": "execute_result"
    }
   ],
   "source": [
    "data['b']"
   ]
  },
  {
   "cell_type": "code",
   "execution_count": 25,
   "id": "f904dc81",
   "metadata": {},
   "outputs": [
    {
     "data": {
      "text/plain": [
       "True"
      ]
     },
     "execution_count": 25,
     "metadata": {},
     "output_type": "execute_result"
    }
   ],
   "source": [
    "'a' in data"
   ]
  },
  {
   "cell_type": "code",
   "execution_count": 26,
   "id": "2b1dee57",
   "metadata": {},
   "outputs": [
    {
     "data": {
      "text/plain": [
       "Index(['a', 'b', 'c', 'd'], dtype='object')"
      ]
     },
     "execution_count": 26,
     "metadata": {},
     "output_type": "execute_result"
    }
   ],
   "source": [
    "data.keys()"
   ]
  },
  {
   "cell_type": "code",
   "execution_count": 27,
   "id": "67f0989c",
   "metadata": {},
   "outputs": [
    {
     "data": {
      "text/plain": [
       "[('a', 0.5), ('b', 1.0), ('c', 1.5), ('d', 2.0)]"
      ]
     },
     "execution_count": 27,
     "metadata": {},
     "output_type": "execute_result"
    }
   ],
   "source": [
    "list(data.items())"
   ]
  },
  {
   "cell_type": "code",
   "execution_count": 28,
   "id": "e2749669",
   "metadata": {},
   "outputs": [
    {
     "data": {
      "text/plain": [
       "a    0.50\n",
       "b    1.00\n",
       "c    1.50\n",
       "d    2.00\n",
       "e    1.25\n",
       "dtype: float64"
      ]
     },
     "execution_count": 28,
     "metadata": {},
     "output_type": "execute_result"
    }
   ],
   "source": [
    "data['e'] = 1.25\n",
    "data"
   ]
  },
  {
   "cell_type": "markdown",
   "id": "24e455ea",
   "metadata": {},
   "source": [
    "# Array-like access"
   ]
  },
  {
   "cell_type": "code",
   "execution_count": 29,
   "id": "e3e692a2",
   "metadata": {},
   "outputs": [
    {
     "data": {
      "text/plain": [
       "a    0.5\n",
       "b    1.0\n",
       "c    1.5\n",
       "dtype: float64"
      ]
     },
     "execution_count": 29,
     "metadata": {},
     "output_type": "execute_result"
    }
   ],
   "source": [
    "# slicing by explicit index\n",
    "data ['a':'c']"
   ]
  },
  {
   "cell_type": "code",
   "execution_count": 30,
   "id": "a80b588a",
   "metadata": {},
   "outputs": [
    {
     "data": {
      "text/plain": [
       "a    0.5\n",
       "b    1.0\n",
       "dtype: float64"
      ]
     },
     "execution_count": 30,
     "metadata": {},
     "output_type": "execute_result"
    }
   ],
   "source": [
    "# slicing by implicit integer index\n",
    "data[0 : 2]"
   ]
  },
  {
   "cell_type": "code",
   "execution_count": 31,
   "id": "843e9f87",
   "metadata": {},
   "outputs": [
    {
     "data": {
      "text/plain": [
       "a    0.50\n",
       "e    1.25\n",
       "dtype: float64"
      ]
     },
     "execution_count": 31,
     "metadata": {},
     "output_type": "execute_result"
    }
   ],
   "source": [
    "# fancy indexing\n",
    "data[['a', 'e']]"
   ]
  },
  {
   "cell_type": "markdown",
   "id": "611f0b66",
   "metadata": {},
   "source": [
    "# Explicit and Positional Indexing"
   ]
  },
  {
   "cell_type": "code",
   "execution_count": 32,
   "id": "99c701cc",
   "metadata": {},
   "outputs": [
    {
     "data": {
      "text/plain": [
       "1    a\n",
       "3    b\n",
       "5    c\n",
       "dtype: object"
      ]
     },
     "execution_count": 32,
     "metadata": {},
     "output_type": "execute_result"
    }
   ],
   "source": [
    "data = pd.Series(['a', 'b', 'c'], index=[1, 3, 5])\n",
    "data"
   ]
  },
  {
   "cell_type": "code",
   "execution_count": 33,
   "id": "b6a79740",
   "metadata": {},
   "outputs": [
    {
     "data": {
      "text/plain": [
       "'a'"
      ]
     },
     "execution_count": 33,
     "metadata": {},
     "output_type": "execute_result"
    }
   ],
   "source": [
    "data[1]"
   ]
  },
  {
   "cell_type": "code",
   "execution_count": 34,
   "id": "6dd903bf",
   "metadata": {},
   "outputs": [
    {
     "data": {
      "text/plain": [
       "1    a\n",
       "3    b\n",
       "dtype: object"
      ]
     },
     "execution_count": 34,
     "metadata": {},
     "output_type": "execute_result"
    }
   ],
   "source": [
    "# explicit index for more rows\n",
    "data[[1,3]]"
   ]
  },
  {
   "cell_type": "code",
   "execution_count": 35,
   "id": "da5341e0",
   "metadata": {},
   "outputs": [
    {
     "data": {
      "text/plain": [
       "3    b\n",
       "5    c\n",
       "dtype: object"
      ]
     },
     "execution_count": 35,
     "metadata": {},
     "output_type": "execute_result"
    }
   ],
   "source": [
    "# positional index for slicing\n",
    "data[1:3]\n"
   ]
  },
  {
   "cell_type": "code",
   "execution_count": 36,
   "id": "67d5caa4",
   "metadata": {},
   "outputs": [
    {
     "data": {
      "text/plain": [
       "'a'"
      ]
     },
     "execution_count": 36,
     "metadata": {},
     "output_type": "execute_result"
    }
   ],
   "source": [
    "# postional index when actual index is not integer values\n",
    "data[1]"
   ]
  },
  {
   "cell_type": "markdown",
   "id": "17599b45",
   "metadata": {},
   "source": [
    "# Expilict Indexing with loc"
   ]
  },
  {
   "cell_type": "code",
   "execution_count": 37,
   "id": "2b476d5b",
   "metadata": {},
   "outputs": [
    {
     "data": {
      "text/plain": [
       "1    a\n",
       "3    b\n",
       "5    c\n",
       "dtype: object"
      ]
     },
     "execution_count": 37,
     "metadata": {},
     "output_type": "execute_result"
    }
   ],
   "source": [
    "data"
   ]
  },
  {
   "cell_type": "code",
   "execution_count": 38,
   "id": "41549abb",
   "metadata": {},
   "outputs": [
    {
     "data": {
      "text/plain": [
       "'a'"
      ]
     },
     "execution_count": 38,
     "metadata": {},
     "output_type": "execute_result"
    }
   ],
   "source": [
    "data.loc[1]\n"
   ]
  },
  {
   "cell_type": "code",
   "execution_count": 39,
   "id": "88c45fd8",
   "metadata": {},
   "outputs": [
    {
     "data": {
      "text/plain": [
       "1    a\n",
       "3    b\n",
       "dtype: object"
      ]
     },
     "execution_count": 39,
     "metadata": {},
     "output_type": "execute_result"
    }
   ],
   "source": [
    "# loc for explicit indexing\n",
    "data.loc[1:3]"
   ]
  },
  {
   "cell_type": "markdown",
   "id": "07cdb96f",
   "metadata": {},
   "source": [
    "# Postional Indexing with iloc"
   ]
  },
  {
   "cell_type": "code",
   "execution_count": 40,
   "id": "4ceebebd",
   "metadata": {},
   "outputs": [
    {
     "data": {
      "text/plain": [
       "'b'"
      ]
     },
     "execution_count": 40,
     "metadata": {},
     "output_type": "execute_result"
    }
   ],
   "source": [
    "data.iloc[1]"
   ]
  },
  {
   "cell_type": "code",
   "execution_count": 41,
   "id": "124b2d1a",
   "metadata": {},
   "outputs": [
    {
     "data": {
      "text/plain": [
       "3    b\n",
       "5    c\n",
       "dtype: object"
      ]
     },
     "execution_count": 41,
     "metadata": {},
     "output_type": "execute_result"
    }
   ],
   "source": [
    "data.iloc[1:3]"
   ]
  },
  {
   "cell_type": "markdown",
   "id": "6df881d3",
   "metadata": {},
   "source": [
    "# Methods for pandas Series"
   ]
  },
  {
   "cell_type": "code",
   "execution_count": 42,
   "id": "951cc8f7",
   "metadata": {},
   "outputs": [
    {
     "data": {
      "text/plain": [
       "Year\n",
       "1917    1.681916\n",
       "1919    2.098980\n",
       "1921    3.454252\n",
       "1923    1.324252\n",
       "1925    2.728722\n",
       "1927    4.325231\n",
       "1929    3.425212\n",
       "1931    2.325131\n",
       "1933    2.526212\n",
       "1935    5.262421\n",
       "1937    3.234142\n",
       "1939    4.678384\n",
       "1941    6.754362\n",
       "1943    6.987899\n",
       "Name: Population, dtype: float64"
      ]
     },
     "execution_count": 42,
     "metadata": {},
     "output_type": "execute_result"
    }
   ],
   "source": [
    "population_in_millions = population / 1e6\n",
    "population_in_millions"
   ]
  },
  {
   "cell_type": "code",
   "execution_count": 43,
   "id": "d59305a1",
   "metadata": {},
   "outputs": [
    {
     "data": {
      "text/plain": [
       "1.681916    1\n",
       "3.454252    1\n",
       "1.324252    1\n",
       "4.678384    1\n",
       "6.987899    1\n",
       "3.234142    1\n",
       "2.325131    1\n",
       "2.098980    1\n",
       "2.526212    1\n",
       "3.425212    1\n",
       "6.754362    1\n",
       "4.325231    1\n",
       "5.262421    1\n",
       "2.728722    1\n",
       "Name: Population, dtype: int64"
      ]
     },
     "execution_count": 43,
     "metadata": {},
     "output_type": "execute_result"
    }
   ],
   "source": [
    "# histograms: which value occurs how often\n",
    "population_in_millions.value_counts()"
   ]
  },
  {
   "cell_type": "code",
   "execution_count": 44,
   "id": "687b0953",
   "metadata": {},
   "outputs": [
    {
     "data": {
      "text/plain": [
       "Year\n",
       "1923    1324252\n",
       "1917    1681916\n",
       "1919    2098980\n",
       "1931    2325131\n",
       "1933    2526212\n",
       "1925    2728722\n",
       "1937    3234142\n",
       "1929    3425212\n",
       "1921    3454252\n",
       "1927    4325231\n",
       "1939    4678384\n",
       "1935    5262421\n",
       "1941    6754362\n",
       "1943    6987899\n",
       "Name: Population, dtype: int64"
      ]
     },
     "execution_count": 44,
     "metadata": {},
     "output_type": "execute_result"
    }
   ],
   "source": [
    "#  sorting\n",
    "population.sort_values()"
   ]
  },
  {
   "cell_type": "code",
   "execution_count": 45,
   "id": "22bf93e5",
   "metadata": {},
   "outputs": [],
   "source": [
    "# for sorting inplace do below\n",
    " # population.sort_values(inplace_True)"
   ]
  },
  {
   "cell_type": "code",
   "execution_count": 46,
   "id": "f71125f5",
   "metadata": {},
   "outputs": [
    {
     "data": {
      "text/plain": [
       "14"
      ]
     },
     "execution_count": 46,
     "metadata": {},
     "output_type": "execute_result"
    }
   ],
   "source": [
    "# the good old len still available\n",
    "len(population)"
   ]
  },
  {
   "cell_type": "code",
   "execution_count": 47,
   "id": "5eddc417",
   "metadata": {},
   "outputs": [
    {
     "data": {
      "text/plain": [
       "count    1.400000e+01\n",
       "mean     3.629080e+06\n",
       "std      1.769458e+06\n",
       "min      1.324252e+06\n",
       "25%      2.375401e+06\n",
       "50%      3.329677e+06\n",
       "75%      4.590096e+06\n",
       "max      6.987899e+06\n",
       "Name: Population, dtype: float64"
      ]
     },
     "execution_count": 47,
     "metadata": {},
     "output_type": "execute_result"
    }
   ],
   "source": [
    "# basic stats\n",
    "population.describe()"
   ]
  },
  {
   "cell_type": "markdown",
   "id": "e191d93a",
   "metadata": {},
   "source": [
    "# applying arbitrary functions"
   ]
  },
  {
   "cell_type": "code",
   "execution_count": 48,
   "id": "5d3faa85",
   "metadata": {},
   "outputs": [
    {
     "data": {
      "text/plain": [
       "35"
      ]
     },
     "execution_count": 48,
     "metadata": {},
     "output_type": "execute_result"
    }
   ],
   "source": [
    "def int_divide_by_million(v):\n",
    "    \"\"\" Divides number by a million and returns its integer represntation\"\"\"\n",
    "    return int(v / 1e6)\n",
    "int_divide_by_million(35 * 1e6)"
   ]
  },
  {
   "cell_type": "code",
   "execution_count": 49,
   "id": "13ba9f4b",
   "metadata": {},
   "outputs": [
    {
     "data": {
      "text/plain": [
       "Year\n",
       "1917    1\n",
       "1919    2\n",
       "1921    3\n",
       "1923    1\n",
       "1925    2\n",
       "1927    4\n",
       "1929    3\n",
       "1931    2\n",
       "1933    2\n",
       "1935    5\n",
       "1937    3\n",
       "1939    4\n",
       "1941    6\n",
       "1943    6\n",
       "Name: Population, dtype: int64"
      ]
     },
     "execution_count": 49,
     "metadata": {},
     "output_type": "execute_result"
    }
   ],
   "source": [
    "population.map(int_divide_by_million) \n",
    "# map will apply the function(int_divide_by_million) to data frame population on each row"
   ]
  },
  {
   "cell_type": "markdown",
   "id": "3907ae72",
   "metadata": {},
   "source": [
    "# Pandas DataFrame"
   ]
  },
  {
   "cell_type": "markdown",
   "id": "3be708b3",
   "metadata": {},
   "source": [
    "think ofa relational table"
   ]
  },
  {
   "cell_type": "markdown",
   "id": "7df16559",
   "metadata": {},
   "source": [
    "# Generating pandas DataFrame"
   ]
  },
  {
   "cell_type": "code",
   "execution_count": 50,
   "id": "50f6dad8",
   "metadata": {},
   "outputs": [],
   "source": [
    "import numpy as np"
   ]
  },
  {
   "cell_type": "code",
   "execution_count": 51,
   "id": "165c14c7",
   "metadata": {},
   "outputs": [
    {
     "data": {
      "text/plain": [
       "array([[0, 1, 2],\n",
       "       [3, 4, 5],\n",
       "       [6, 7, 8]])"
      ]
     },
     "execution_count": 51,
     "metadata": {},
     "output_type": "execute_result"
    }
   ],
   "source": [
    "some_numpy_array = np.arange(9).reshape((3,3))\n",
    "some_numpy_array"
   ]
  },
  {
   "cell_type": "code",
   "execution_count": 52,
   "id": "7f2120ad",
   "metadata": {},
   "outputs": [
    {
     "data": {
      "text/html": [
       "<div>\n",
       "<style scoped>\n",
       "    .dataframe tbody tr th:only-of-type {\n",
       "        vertical-align: middle;\n",
       "    }\n",
       "\n",
       "    .dataframe tbody tr th {\n",
       "        vertical-align: top;\n",
       "    }\n",
       "\n",
       "    .dataframe thead th {\n",
       "        text-align: right;\n",
       "    }\n",
       "</style>\n",
       "<table border=\"1\" class=\"dataframe\">\n",
       "  <thead>\n",
       "    <tr style=\"text-align: right;\">\n",
       "      <th></th>\n",
       "      <th>Ohio</th>\n",
       "      <th>Texas</th>\n",
       "      <th>California</th>\n",
       "    </tr>\n",
       "  </thead>\n",
       "  <tbody>\n",
       "    <tr>\n",
       "      <th>a</th>\n",
       "      <td>0</td>\n",
       "      <td>1</td>\n",
       "      <td>2</td>\n",
       "    </tr>\n",
       "    <tr>\n",
       "      <th>b</th>\n",
       "      <td>3</td>\n",
       "      <td>4</td>\n",
       "      <td>5</td>\n",
       "    </tr>\n",
       "    <tr>\n",
       "      <th>c</th>\n",
       "      <td>6</td>\n",
       "      <td>7</td>\n",
       "      <td>8</td>\n",
       "    </tr>\n",
       "  </tbody>\n",
       "</table>\n",
       "</div>"
      ],
      "text/plain": [
       "   Ohio  Texas  California\n",
       "a     0      1           2\n",
       "b     3      4           5\n",
       "c     6      7           8"
      ]
     },
     "execution_count": 52,
     "metadata": {},
     "output_type": "execute_result"
    }
   ],
   "source": [
    "df = pd.DataFrame(some_numpy_array, \n",
    "                  index=['a', 'b', 'c'],\n",
    "                  columns=['Ohio', 'Texas', 'California'])\n",
    "df"
   ]
  },
  {
   "cell_type": "markdown",
   "id": "f99156d0",
   "metadata": {},
   "source": [
    "# Constructors"
   ]
  },
  {
   "cell_type": "markdown",
   "id": "9d099f14",
   "metadata": {},
   "source": [
    "\n",
    "\n",
    "# DataFrame from a csv file"
   ]
  },
  {
   "cell_type": "code",
   "execution_count": 53,
   "id": "8ede799a",
   "metadata": {},
   "outputs": [],
   "source": [
    "berlin_population = pd.read_csv(\"csvData.csv\")"
   ]
  },
  {
   "cell_type": "code",
   "execution_count": 54,
   "id": "d6d8e6df",
   "metadata": {},
   "outputs": [
    {
     "data": {
      "text/html": [
       "<div>\n",
       "<style scoped>\n",
       "    .dataframe tbody tr th:only-of-type {\n",
       "        vertical-align: middle;\n",
       "    }\n",
       "\n",
       "    .dataframe tbody tr th {\n",
       "        vertical-align: top;\n",
       "    }\n",
       "\n",
       "    .dataframe thead th {\n",
       "        text-align: right;\n",
       "    }\n",
       "</style>\n",
       "<table border=\"1\" class=\"dataframe\">\n",
       "  <thead>\n",
       "    <tr style=\"text-align: right;\">\n",
       "      <th></th>\n",
       "      <th>Year</th>\n",
       "      <th>Population</th>\n",
       "      <th>GrowthRate</th>\n",
       "      <th>Growth</th>\n",
       "    </tr>\n",
       "  </thead>\n",
       "  <tbody>\n",
       "    <tr>\n",
       "      <th>0</th>\n",
       "      <td>2035</td>\n",
       "      <td>3638756</td>\n",
       "      <td>0.0019</td>\n",
       "      <td>6784</td>\n",
       "    </tr>\n",
       "    <tr>\n",
       "      <th>1</th>\n",
       "      <td>2034</td>\n",
       "      <td>3631972</td>\n",
       "      <td>0.0018</td>\n",
       "      <td>6649</td>\n",
       "    </tr>\n",
       "    <tr>\n",
       "      <th>2</th>\n",
       "      <td>2033</td>\n",
       "      <td>3625323</td>\n",
       "      <td>0.0018</td>\n",
       "      <td>6507</td>\n",
       "    </tr>\n",
       "    <tr>\n",
       "      <th>3</th>\n",
       "      <td>2032</td>\n",
       "      <td>3618816</td>\n",
       "      <td>0.0018</td>\n",
       "      <td>6355</td>\n",
       "    </tr>\n",
       "    <tr>\n",
       "      <th>4</th>\n",
       "      <td>2031</td>\n",
       "      <td>3612461</td>\n",
       "      <td>0.0017</td>\n",
       "      <td>6193</td>\n",
       "    </tr>\n",
       "  </tbody>\n",
       "</table>\n",
       "</div>"
      ],
      "text/plain": [
       "   Year  Population  GrowthRate  Growth\n",
       "0  2035     3638756      0.0019    6784\n",
       "1  2034     3631972      0.0018    6649\n",
       "2  2033     3625323      0.0018    6507\n",
       "3  2032     3618816      0.0018    6355\n",
       "4  2031     3612461      0.0017    6193"
      ]
     },
     "execution_count": 54,
     "metadata": {},
     "output_type": "execute_result"
    }
   ],
   "source": [
    "berlin_population.head()"
   ]
  },
  {
   "cell_type": "code",
   "execution_count": 55,
   "id": "d7108175",
   "metadata": {},
   "outputs": [
    {
     "data": {
      "text/plain": [
       "RangeIndex(start=0, stop=86, step=1)"
      ]
     },
     "execution_count": 55,
     "metadata": {},
     "output_type": "execute_result"
    }
   ],
   "source": [
    "# like Series (and  tables in DBs) DataFrames haves indices\n",
    "df = pd.DataFrame(berlin_population)\n",
    "df.index"
   ]
  },
  {
   "cell_type": "code",
   "execution_count": 56,
   "id": "fa32e5ba",
   "metadata": {},
   "outputs": [
    {
     "data": {
      "text/plain": [
       "3625323"
      ]
     },
     "execution_count": 56,
     "metadata": {},
     "output_type": "execute_result"
    }
   ],
   "source": [
    "# Accessing by row and column index\n",
    "df.loc[2, 'Population']"
   ]
  },
  {
   "cell_type": "code",
   "execution_count": 57,
   "id": "9fb7c2e4",
   "metadata": {},
   "outputs": [
    {
     "data": {
      "text/plain": [
       "0     2035\n",
       "1     2034\n",
       "2     2033\n",
       "3     2032\n",
       "4     2031\n",
       "      ... \n",
       "81    1954\n",
       "82    1953\n",
       "83    1952\n",
       "84    1951\n",
       "85    1950\n",
       "Name: Year, Length: 86, dtype: int64"
      ]
     },
     "execution_count": 57,
     "metadata": {},
     "output_type": "execute_result"
    }
   ],
   "source": [
    "# Accesing by entire column\n",
    "df.loc[:, 'Year']"
   ]
  },
  {
   "cell_type": "code",
   "execution_count": 58,
   "id": "f6a593d0",
   "metadata": {},
   "outputs": [
    {
     "data": {
      "text/plain": [
       "0     2035\n",
       "1     2034\n",
       "2     2033\n",
       "3     2032\n",
       "4     2031\n",
       "      ... \n",
       "81    1954\n",
       "82    1953\n",
       "83    1952\n",
       "84    1951\n",
       "85    1950\n",
       "Name: Year, Length: 86, dtype: int64"
      ]
     },
     "execution_count": 58,
     "metadata": {},
     "output_type": "execute_result"
    }
   ],
   "source": [
    "# Accesing by entire column\n",
    "df['Year']"
   ]
  },
  {
   "cell_type": "code",
   "execution_count": 59,
   "id": "2aad7142",
   "metadata": {},
   "outputs": [
    {
     "data": {
      "text/plain": [
       "0     3638756\n",
       "1     3631972\n",
       "2     3625323\n",
       "3     3618816\n",
       "4     3612461\n",
       "       ...   \n",
       "81    3306290\n",
       "82    3314095\n",
       "83    3321908\n",
       "84    3329761\n",
       "85    3337621\n",
       "Name: Population, Length: 86, dtype: int64"
      ]
     },
     "execution_count": 59,
     "metadata": {},
     "output_type": "execute_result"
    }
   ],
   "source": [
    "# a single column of a DataFrame is a Series\n",
    "df['Population']"
   ]
  },
  {
   "cell_type": "code",
   "execution_count": 60,
   "id": "25b81f2c",
   "metadata": {},
   "outputs": [
    {
     "data": {
      "text/plain": [
       "0     False\n",
       "1     False\n",
       "2     False\n",
       "3     False\n",
       "4     False\n",
       "      ...  \n",
       "81    False\n",
       "82    False\n",
       "83    False\n",
       "84    False\n",
       "85    False\n",
       "Name: Population, Length: 86, dtype: bool"
      ]
     },
     "execution_count": 60,
     "metadata": {},
     "output_type": "execute_result"
    }
   ],
   "source": [
    "# boolean indexing\n",
    "df['Population'] < 3e6"
   ]
  },
  {
   "cell_type": "markdown",
   "id": "d1432d3d",
   "metadata": {},
   "source": [
    "# Database style Joins"
   ]
  },
  {
   "cell_type": "code",
   "execution_count": 61,
   "id": "55a0a73a",
   "metadata": {},
   "outputs": [
    {
     "data": {
      "text/html": [
       "<div>\n",
       "<style scoped>\n",
       "    .dataframe tbody tr th:only-of-type {\n",
       "        vertical-align: middle;\n",
       "    }\n",
       "\n",
       "    .dataframe tbody tr th {\n",
       "        vertical-align: top;\n",
       "    }\n",
       "\n",
       "    .dataframe thead th {\n",
       "        text-align: right;\n",
       "    }\n",
       "</style>\n",
       "<table border=\"1\" class=\"dataframe\">\n",
       "  <thead>\n",
       "    <tr style=\"text-align: right;\">\n",
       "      <th></th>\n",
       "      <th>key</th>\n",
       "      <th>data1</th>\n",
       "    </tr>\n",
       "  </thead>\n",
       "  <tbody>\n",
       "    <tr>\n",
       "      <th>0</th>\n",
       "      <td>b</td>\n",
       "      <td>0</td>\n",
       "    </tr>\n",
       "    <tr>\n",
       "      <th>1</th>\n",
       "      <td>b</td>\n",
       "      <td>1</td>\n",
       "    </tr>\n",
       "    <tr>\n",
       "      <th>2</th>\n",
       "      <td>a</td>\n",
       "      <td>2</td>\n",
       "    </tr>\n",
       "    <tr>\n",
       "      <th>3</th>\n",
       "      <td>c</td>\n",
       "      <td>3</td>\n",
       "    </tr>\n",
       "    <tr>\n",
       "      <th>4</th>\n",
       "      <td>a</td>\n",
       "      <td>4</td>\n",
       "    </tr>\n",
       "    <tr>\n",
       "      <th>5</th>\n",
       "      <td>a</td>\n",
       "      <td>5</td>\n",
       "    </tr>\n",
       "    <tr>\n",
       "      <th>6</th>\n",
       "      <td>b</td>\n",
       "      <td>6</td>\n",
       "    </tr>\n",
       "  </tbody>\n",
       "</table>\n",
       "</div>"
      ],
      "text/plain": [
       "  key  data1\n",
       "0   b      0\n",
       "1   b      1\n",
       "2   a      2\n",
       "3   c      3\n",
       "4   a      4\n",
       "5   a      5\n",
       "6   b      6"
      ]
     },
     "execution_count": 61,
     "metadata": {},
     "output_type": "execute_result"
    }
   ],
   "source": [
    "df1 = pd.DataFrame({ 'key' : ['b', 'b', 'a', 'c', 'a', 'a', 'b'], 'data1' : range(7)})\n",
    "df1"
   ]
  },
  {
   "cell_type": "code",
   "execution_count": 62,
   "id": "60d0d2df",
   "metadata": {},
   "outputs": [
    {
     "data": {
      "text/html": [
       "<div>\n",
       "<style scoped>\n",
       "    .dataframe tbody tr th:only-of-type {\n",
       "        vertical-align: middle;\n",
       "    }\n",
       "\n",
       "    .dataframe tbody tr th {\n",
       "        vertical-align: top;\n",
       "    }\n",
       "\n",
       "    .dataframe thead th {\n",
       "        text-align: right;\n",
       "    }\n",
       "</style>\n",
       "<table border=\"1\" class=\"dataframe\">\n",
       "  <thead>\n",
       "    <tr style=\"text-align: right;\">\n",
       "      <th></th>\n",
       "      <th>key</th>\n",
       "      <th>data2</th>\n",
       "    </tr>\n",
       "  </thead>\n",
       "  <tbody>\n",
       "    <tr>\n",
       "      <th>0</th>\n",
       "      <td>a</td>\n",
       "      <td>0</td>\n",
       "    </tr>\n",
       "    <tr>\n",
       "      <th>1</th>\n",
       "      <td>b</td>\n",
       "      <td>1</td>\n",
       "    </tr>\n",
       "    <tr>\n",
       "      <th>2</th>\n",
       "      <td>d</td>\n",
       "      <td>2</td>\n",
       "    </tr>\n",
       "  </tbody>\n",
       "</table>\n",
       "</div>"
      ],
      "text/plain": [
       "  key  data2\n",
       "0   a      0\n",
       "1   b      1\n",
       "2   d      2"
      ]
     },
     "execution_count": 62,
     "metadata": {},
     "output_type": "execute_result"
    }
   ],
   "source": [
    "df2 = pd.DataFrame({ 'key' : ['a', 'b', 'd'], 'data2' : range(3)})\n",
    "df2"
   ]
  },
  {
   "cell_type": "markdown",
   "id": "28efae6f",
   "metadata": {},
   "source": [
    "# Inner join"
   ]
  },
  {
   "cell_type": "code",
   "execution_count": 63,
   "id": "fed1e0bd",
   "metadata": {},
   "outputs": [
    {
     "data": {
      "text/html": [
       "<div>\n",
       "<style scoped>\n",
       "    .dataframe tbody tr th:only-of-type {\n",
       "        vertical-align: middle;\n",
       "    }\n",
       "\n",
       "    .dataframe tbody tr th {\n",
       "        vertical-align: top;\n",
       "    }\n",
       "\n",
       "    .dataframe thead th {\n",
       "        text-align: right;\n",
       "    }\n",
       "</style>\n",
       "<table border=\"1\" class=\"dataframe\">\n",
       "  <thead>\n",
       "    <tr style=\"text-align: right;\">\n",
       "      <th></th>\n",
       "      <th>key</th>\n",
       "      <th>data1</th>\n",
       "      <th>data2</th>\n",
       "    </tr>\n",
       "  </thead>\n",
       "  <tbody>\n",
       "    <tr>\n",
       "      <th>0</th>\n",
       "      <td>b</td>\n",
       "      <td>0</td>\n",
       "      <td>1</td>\n",
       "    </tr>\n",
       "    <tr>\n",
       "      <th>1</th>\n",
       "      <td>b</td>\n",
       "      <td>1</td>\n",
       "      <td>1</td>\n",
       "    </tr>\n",
       "    <tr>\n",
       "      <th>2</th>\n",
       "      <td>b</td>\n",
       "      <td>6</td>\n",
       "      <td>1</td>\n",
       "    </tr>\n",
       "    <tr>\n",
       "      <th>3</th>\n",
       "      <td>a</td>\n",
       "      <td>2</td>\n",
       "      <td>0</td>\n",
       "    </tr>\n",
       "    <tr>\n",
       "      <th>4</th>\n",
       "      <td>a</td>\n",
       "      <td>4</td>\n",
       "      <td>0</td>\n",
       "    </tr>\n",
       "    <tr>\n",
       "      <th>5</th>\n",
       "      <td>a</td>\n",
       "      <td>5</td>\n",
       "      <td>0</td>\n",
       "    </tr>\n",
       "  </tbody>\n",
       "</table>\n",
       "</div>"
      ],
      "text/plain": [
       "  key  data1  data2\n",
       "0   b      0      1\n",
       "1   b      1      1\n",
       "2   b      6      1\n",
       "3   a      2      0\n",
       "4   a      4      0\n",
       "5   a      5      0"
      ]
     },
     "execution_count": 63,
     "metadata": {},
     "output_type": "execute_result"
    }
   ],
   "source": [
    "pd.merge(df1, df2, on='key')"
   ]
  },
  {
   "cell_type": "markdown",
   "id": "be340308",
   "metadata": {},
   "source": [
    "# Outer Join"
   ]
  },
  {
   "cell_type": "code",
   "execution_count": 64,
   "id": "2a729ec4",
   "metadata": {},
   "outputs": [
    {
     "data": {
      "text/html": [
       "<div>\n",
       "<style scoped>\n",
       "    .dataframe tbody tr th:only-of-type {\n",
       "        vertical-align: middle;\n",
       "    }\n",
       "\n",
       "    .dataframe tbody tr th {\n",
       "        vertical-align: top;\n",
       "    }\n",
       "\n",
       "    .dataframe thead th {\n",
       "        text-align: right;\n",
       "    }\n",
       "</style>\n",
       "<table border=\"1\" class=\"dataframe\">\n",
       "  <thead>\n",
       "    <tr style=\"text-align: right;\">\n",
       "      <th></th>\n",
       "      <th>key</th>\n",
       "      <th>data1</th>\n",
       "      <th>data2</th>\n",
       "    </tr>\n",
       "  </thead>\n",
       "  <tbody>\n",
       "    <tr>\n",
       "      <th>0</th>\n",
       "      <td>b</td>\n",
       "      <td>0.0</td>\n",
       "      <td>1.0</td>\n",
       "    </tr>\n",
       "    <tr>\n",
       "      <th>1</th>\n",
       "      <td>b</td>\n",
       "      <td>1.0</td>\n",
       "      <td>1.0</td>\n",
       "    </tr>\n",
       "    <tr>\n",
       "      <th>2</th>\n",
       "      <td>b</td>\n",
       "      <td>6.0</td>\n",
       "      <td>1.0</td>\n",
       "    </tr>\n",
       "    <tr>\n",
       "      <th>3</th>\n",
       "      <td>a</td>\n",
       "      <td>2.0</td>\n",
       "      <td>0.0</td>\n",
       "    </tr>\n",
       "    <tr>\n",
       "      <th>4</th>\n",
       "      <td>a</td>\n",
       "      <td>4.0</td>\n",
       "      <td>0.0</td>\n",
       "    </tr>\n",
       "    <tr>\n",
       "      <th>5</th>\n",
       "      <td>a</td>\n",
       "      <td>5.0</td>\n",
       "      <td>0.0</td>\n",
       "    </tr>\n",
       "    <tr>\n",
       "      <th>6</th>\n",
       "      <td>c</td>\n",
       "      <td>3.0</td>\n",
       "      <td>NaN</td>\n",
       "    </tr>\n",
       "    <tr>\n",
       "      <th>7</th>\n",
       "      <td>d</td>\n",
       "      <td>NaN</td>\n",
       "      <td>2.0</td>\n",
       "    </tr>\n",
       "  </tbody>\n",
       "</table>\n",
       "</div>"
      ],
      "text/plain": [
       "  key  data1  data2\n",
       "0   b    0.0    1.0\n",
       "1   b    1.0    1.0\n",
       "2   b    6.0    1.0\n",
       "3   a    2.0    0.0\n",
       "4   a    4.0    0.0\n",
       "5   a    5.0    0.0\n",
       "6   c    3.0    NaN\n",
       "7   d    NaN    2.0"
      ]
     },
     "execution_count": 64,
     "metadata": {},
     "output_type": "execute_result"
    }
   ],
   "source": [
    "pd.merge(df1, df2, on='key', how='outer')"
   ]
  },
  {
   "cell_type": "markdown",
   "id": "4be3ff22",
   "metadata": {},
   "source": [
    "# Concatenation"
   ]
  },
  {
   "cell_type": "code",
   "execution_count": 66,
   "id": "366ce154",
   "metadata": {},
   "outputs": [
    {
     "data": {
      "text/plain": [
       "a    0\n",
       "b    1\n",
       "dtype: int64"
      ]
     },
     "execution_count": 66,
     "metadata": {},
     "output_type": "execute_result"
    }
   ],
   "source": [
    "s1 = pd.Series([0, 1], index = ['a', 'b'])\n",
    "s1"
   ]
  },
  {
   "cell_type": "code",
   "execution_count": 67,
   "id": "dc5cf1d6",
   "metadata": {},
   "outputs": [
    {
     "data": {
      "text/plain": [
       "c    2\n",
       "d    3\n",
       "e    4\n",
       "dtype: int64"
      ]
     },
     "execution_count": 67,
     "metadata": {},
     "output_type": "execute_result"
    }
   ],
   "source": [
    "s2 = pd.Series([2, 3, 4], index = ['c', 'd', 'e'])\n",
    "s2"
   ]
  },
  {
   "cell_type": "code",
   "execution_count": 68,
   "id": "c9599067",
   "metadata": {},
   "outputs": [
    {
     "data": {
      "text/plain": [
       "a    0\n",
       "b    1\n",
       "c    2\n",
       "d    3\n",
       "e    4\n",
       "f    5\n",
       "g    6\n",
       "dtype: int64"
      ]
     },
     "execution_count": 68,
     "metadata": {},
     "output_type": "execute_result"
    }
   ],
   "source": [
    "s3 = pd.Series([5, 6], index = ['f', 'g'])\n",
    "pd.concat([s1, s2,s3])"
   ]
  },
  {
   "cell_type": "code",
   "execution_count": 69,
   "id": "e2537e47",
   "metadata": {},
   "outputs": [
    {
     "data": {
      "text/html": [
       "<div>\n",
       "<style scoped>\n",
       "    .dataframe tbody tr th:only-of-type {\n",
       "        vertical-align: middle;\n",
       "    }\n",
       "\n",
       "    .dataframe tbody tr th {\n",
       "        vertical-align: top;\n",
       "    }\n",
       "\n",
       "    .dataframe thead th {\n",
       "        text-align: right;\n",
       "    }\n",
       "</style>\n",
       "<table border=\"1\" class=\"dataframe\">\n",
       "  <thead>\n",
       "    <tr style=\"text-align: right;\">\n",
       "      <th></th>\n",
       "      <th>0</th>\n",
       "      <th>1</th>\n",
       "      <th>2</th>\n",
       "    </tr>\n",
       "  </thead>\n",
       "  <tbody>\n",
       "    <tr>\n",
       "      <th>a</th>\n",
       "      <td>0.0</td>\n",
       "      <td>NaN</td>\n",
       "      <td>NaN</td>\n",
       "    </tr>\n",
       "    <tr>\n",
       "      <th>b</th>\n",
       "      <td>1.0</td>\n",
       "      <td>NaN</td>\n",
       "      <td>NaN</td>\n",
       "    </tr>\n",
       "    <tr>\n",
       "      <th>c</th>\n",
       "      <td>NaN</td>\n",
       "      <td>2.0</td>\n",
       "      <td>NaN</td>\n",
       "    </tr>\n",
       "    <tr>\n",
       "      <th>d</th>\n",
       "      <td>NaN</td>\n",
       "      <td>3.0</td>\n",
       "      <td>NaN</td>\n",
       "    </tr>\n",
       "    <tr>\n",
       "      <th>e</th>\n",
       "      <td>NaN</td>\n",
       "      <td>4.0</td>\n",
       "      <td>NaN</td>\n",
       "    </tr>\n",
       "    <tr>\n",
       "      <th>f</th>\n",
       "      <td>NaN</td>\n",
       "      <td>NaN</td>\n",
       "      <td>5.0</td>\n",
       "    </tr>\n",
       "    <tr>\n",
       "      <th>g</th>\n",
       "      <td>NaN</td>\n",
       "      <td>NaN</td>\n",
       "      <td>6.0</td>\n",
       "    </tr>\n",
       "  </tbody>\n",
       "</table>\n",
       "</div>"
      ],
      "text/plain": [
       "     0    1    2\n",
       "a  0.0  NaN  NaN\n",
       "b  1.0  NaN  NaN\n",
       "c  NaN  2.0  NaN\n",
       "d  NaN  3.0  NaN\n",
       "e  NaN  4.0  NaN\n",
       "f  NaN  NaN  5.0\n",
       "g  NaN  NaN  6.0"
      ]
     },
     "execution_count": 69,
     "metadata": {},
     "output_type": "execute_result"
    }
   ],
   "source": [
    "pd.concat([s1,s2,s3], axis =1, sort = True)"
   ]
  },
  {
   "cell_type": "markdown",
   "id": "de2254e5",
   "metadata": {},
   "source": [
    "# Exploration of baby names in Berlin"
   ]
  },
  {
   "cell_type": "code",
   "execution_count": 71,
   "id": "00fe8bbb",
   "metadata": {},
   "outputs": [],
   "source": [
    "# check the URL syntax\n",
    "df = pd.read_csv(\"https://raw.githubusercontent.com/berlinonline/haeufige-vornamen-berlin/master/data/cleaned/2020/charlottenburg-wilmersdorf.csv\", sep=',', error_bad_lines =False)"
   ]
  },
  {
   "cell_type": "code",
   "execution_count": 72,
   "id": "e9e661d9",
   "metadata": {},
   "outputs": [
    {
     "data": {
      "text/html": [
       "<div>\n",
       "<style scoped>\n",
       "    .dataframe tbody tr th:only-of-type {\n",
       "        vertical-align: middle;\n",
       "    }\n",
       "\n",
       "    .dataframe tbody tr th {\n",
       "        vertical-align: top;\n",
       "    }\n",
       "\n",
       "    .dataframe thead th {\n",
       "        text-align: right;\n",
       "    }\n",
       "</style>\n",
       "<table border=\"1\" class=\"dataframe\">\n",
       "  <thead>\n",
       "    <tr style=\"text-align: right;\">\n",
       "      <th></th>\n",
       "      <th>vorname</th>\n",
       "      <th>anzahl</th>\n",
       "      <th>geschlecht</th>\n",
       "      <th>position</th>\n",
       "    </tr>\n",
       "  </thead>\n",
       "  <tbody>\n",
       "    <tr>\n",
       "      <th>0</th>\n",
       "      <td>Marie</td>\n",
       "      <td>68</td>\n",
       "      <td>w</td>\n",
       "      <td>2</td>\n",
       "    </tr>\n",
       "    <tr>\n",
       "      <th>1</th>\n",
       "      <td>Sophie</td>\n",
       "      <td>51</td>\n",
       "      <td>w</td>\n",
       "      <td>2</td>\n",
       "    </tr>\n",
       "    <tr>\n",
       "      <th>2</th>\n",
       "      <td>Charlotte</td>\n",
       "      <td>45</td>\n",
       "      <td>w</td>\n",
       "      <td>1</td>\n",
       "    </tr>\n",
       "    <tr>\n",
       "      <th>3</th>\n",
       "      <td>Alexander</td>\n",
       "      <td>36</td>\n",
       "      <td>m</td>\n",
       "      <td>2</td>\n",
       "    </tr>\n",
       "    <tr>\n",
       "      <th>4</th>\n",
       "      <td>Noah</td>\n",
       "      <td>35</td>\n",
       "      <td>m</td>\n",
       "      <td>1</td>\n",
       "    </tr>\n",
       "  </tbody>\n",
       "</table>\n",
       "</div>"
      ],
      "text/plain": [
       "     vorname  anzahl geschlecht  position\n",
       "0      Marie      68          w         2\n",
       "1     Sophie      51          w         2\n",
       "2  Charlotte      45          w         1\n",
       "3  Alexander      36          m         2\n",
       "4       Noah      35          m         1"
      ]
     },
     "execution_count": 72,
     "metadata": {},
     "output_type": "execute_result"
    }
   ],
   "source": [
    "df.head()"
   ]
  },
  {
   "cell_type": "code",
   "execution_count": 73,
   "id": "e87d6b86",
   "metadata": {},
   "outputs": [],
   "source": [
    "import urllib\n",
    "import os\n",
    "\n",
    "districts = [\n",
    "    \"charlottenburg-wilmersdorf\",\n",
    "    \"friedrichshain-kreuzberg\",\n",
    "    \"lichtenberg\",\n",
    "    \"marzahn-hellersdorf\",\n",
    "    \"mitte\",\n",
    "    \"neukoelln\",\n",
    "    \"pankow\",\n",
    "    \"reinickendorf\",\n",
    "    \"spandau\",\n",
    "    \"steglitz-zehlendorf\",\n",
    "    \"tempelhof-schoeneberg\",\n",
    "    \"treptow_koepenick\"\n",
    "]\n",
    "\n",
    "years = range (2013,2021)"
   ]
  },
  {
   "cell_type": "code",
   "execution_count": 78,
   "id": "71262f95",
   "metadata": {},
   "outputs": [
    {
     "ename": "IndentationError",
     "evalue": "unindent does not match any outer indentation level (<tokenize>, line 13)",
     "output_type": "error",
     "traceback": [
      "\u001b[0;36m  File \u001b[0;32m\"<tokenize>\"\u001b[0;36m, line \u001b[0;32m13\u001b[0m\n\u001b[0;31m    except :\u001b[0m\n\u001b[0m    ^\u001b[0m\n\u001b[0;31mIndentationError\u001b[0m\u001b[0;31m:\u001b[0m unindent does not match any outer indentation level\n"
     ]
    }
   ],
   "source": [
    "# download all name files from berlin open data protal\n",
    "\n",
    "all_names =[]\n",
    "\n",
    "for d in districts:\n",
    "     for y in years:\n",
    "             try:\n",
    "                    url = f\"https://raw.githubusercontent.com/berlinonline/haeufige-vornamen-berlin/master/data/cleaned/{y}/{d}.csv\"\n",
    "                    df_names_districts = pd.read_csv(url, sep=',', error_bad_lines = False)\n",
    "                    df_names_districts['district'] = d\n",
    "                    df_names_districts['year'] = y\n",
    "                    all_names.append(df_name_districts)\n",
    "            except :\n",
    "                print(f\"File {url} not found\")\n",
    "\n",
    "# concatenate DataFrame\n",
    "all_names_df = pd.concat(all_names, sort=True)\n",
    "\n",
    "# dump to file\n",
    "all_names_df.to_csv(os.path.join(\"jasdata_science\", \"all_names_berlin.csv\"), index=False)"
   ]
  },
  {
   "cell_type": "code",
   "execution_count": null,
   "id": "9ef986c7",
   "metadata": {},
   "outputs": [],
   "source": []
  },
  {
   "cell_type": "code",
   "execution_count": null,
   "id": "4d502585",
   "metadata": {},
   "outputs": [],
   "source": []
  },
  {
   "cell_type": "code",
   "execution_count": null,
   "id": "4dedd20b",
   "metadata": {},
   "outputs": [],
   "source": []
  },
  {
   "cell_type": "code",
   "execution_count": null,
   "id": "6fc0a616",
   "metadata": {},
   "outputs": [],
   "source": []
  },
  {
   "cell_type": "code",
   "execution_count": null,
   "id": "56662c1a",
   "metadata": {},
   "outputs": [],
   "source": []
  },
  {
   "cell_type": "code",
   "execution_count": null,
   "id": "ea8b25c2",
   "metadata": {},
   "outputs": [],
   "source": []
  }
 ],
 "metadata": {
  "kernelspec": {
   "display_name": "Python 3",
   "language": "python",
   "name": "python3"
  },
  "language_info": {
   "codemirror_mode": {
    "name": "ipython",
    "version": 3
   },
   "file_extension": ".py",
   "mimetype": "text/x-python",
   "name": "python",
   "nbconvert_exporter": "python",
   "pygments_lexer": "ipython3",
   "version": "3.8.8"
  }
 },
 "nbformat": 4,
 "nbformat_minor": 5
}
